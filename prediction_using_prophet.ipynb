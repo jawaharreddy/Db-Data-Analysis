{
 "cells": [
  {
   "cell_type": "code",
   "execution_count": 48,
   "metadata": {},
   "outputs": [
    {
     "data": {
      "text/html": [
       "<script>requirejs.config({paths: { 'plotly': ['https://cdn.plot.ly/plotly-latest.min']},});if(!window.Plotly) {{require(['plotly'],function(plotly) {window.Plotly=plotly;});}}</script>"
      ],
      "text/vnd.plotly.v1+html": [
       "<script>requirejs.config({paths: { 'plotly': ['https://cdn.plot.ly/plotly-latest.min']},});if(!window.Plotly) {{require(['plotly'],function(plotly) {window.Plotly=plotly;});}}</script>"
      ]
     },
     "metadata": {},
     "output_type": "display_data"
    }
   ],
   "source": [
    "%run 'data_preparation.ipynb'"
   ]
  },
  {
   "cell_type": "code",
   "execution_count": 19,
   "metadata": {
    "collapsed": true
   },
   "outputs": [],
   "source": [
    "from fbprophet import Prophet"
   ]
  },
  {
   "cell_type": "code",
   "execution_count": 86,
   "metadata": {
    "scrolled": true
   },
   "outputs": [
    {
     "data": {
      "text/html": [
       "<div>\n",
       "<style>\n",
       "    .dataframe thead tr:only-child th {\n",
       "        text-align: right;\n",
       "    }\n",
       "\n",
       "    .dataframe thead th {\n",
       "        text-align: left;\n",
       "    }\n",
       "\n",
       "    .dataframe tbody tr th {\n",
       "        vertical-align: top;\n",
       "    }\n",
       "</style>\n",
       "<table border=\"1\" class=\"dataframe\">\n",
       "  <thead>\n",
       "    <tr style=\"text-align: right;\">\n",
       "      <th></th>\n",
       "      <th>BOOKING_HAL_ID</th>\n",
       "      <th>CATEGORY_HAL_ID</th>\n",
       "      <th>VEHICLE_HAL_ID</th>\n",
       "      <th>CUSTOMER_HAL_ID</th>\n",
       "      <th>DATE_BOOKING</th>\n",
       "      <th>DATE_FROM</th>\n",
       "      <th>DATE_UNTIL</th>\n",
       "      <th>COMPUTE_EXTRA_BOOKING_FEE</th>\n",
       "      <th>TRAVERSE_USE</th>\n",
       "      <th>DISTANCE</th>\n",
       "      <th>...</th>\n",
       "      <th>BOOKING_DATE</th>\n",
       "      <th>FROM_DATE</th>\n",
       "      <th>BOOKING_YEAR</th>\n",
       "      <th>BOOKING_MONTH</th>\n",
       "      <th>BOOKING_WDAY</th>\n",
       "      <th>BOOKING_QUARTER</th>\n",
       "      <th>FROM_MONTH</th>\n",
       "      <th>UNTIL_MONTH</th>\n",
       "      <th>FROM_WDAY</th>\n",
       "      <th>UNTIL_WDAY</th>\n",
       "    </tr>\n",
       "  </thead>\n",
       "  <tbody>\n",
       "    <tr>\n",
       "      <th>542932</th>\n",
       "      <td>43060293</td>\n",
       "      <td>100005</td>\n",
       "      <td>161830</td>\n",
       "      <td>FBFBE66F79A8407BF2DA061EB035A9E3BA60FB5C</td>\n",
       "      <td>2016-11-30 11:29:24</td>\n",
       "      <td>2016-11-30 09:05:46</td>\n",
       "      <td>2016-11-30 10:48:14</td>\n",
       "      <td>Nein</td>\n",
       "      <td>Nein</td>\n",
       "      <td>26</td>\n",
       "      <td>...</td>\n",
       "      <td>2016-11-30</td>\n",
       "      <td>2016-11-30</td>\n",
       "      <td>2016</td>\n",
       "      <td>11</td>\n",
       "      <td>2</td>\n",
       "      <td>4</td>\n",
       "      <td>11</td>\n",
       "      <td>11</td>\n",
       "      <td>2</td>\n",
       "      <td>2</td>\n",
       "    </tr>\n",
       "    <tr>\n",
       "      <th>542933</th>\n",
       "      <td>43070512</td>\n",
       "      <td>100005</td>\n",
       "      <td>161830</td>\n",
       "      <td>FBFBE66F79A8407BF2DA061EB035A9E3BA60FB5C</td>\n",
       "      <td>2016-11-30 21:22:43</td>\n",
       "      <td>2016-11-30 19:04:47</td>\n",
       "      <td>2016-11-30 21:20:02</td>\n",
       "      <td>Nein</td>\n",
       "      <td>Nein</td>\n",
       "      <td>57</td>\n",
       "      <td>...</td>\n",
       "      <td>2016-11-30</td>\n",
       "      <td>2016-11-30</td>\n",
       "      <td>2016</td>\n",
       "      <td>11</td>\n",
       "      <td>2</td>\n",
       "      <td>4</td>\n",
       "      <td>11</td>\n",
       "      <td>11</td>\n",
       "      <td>2</td>\n",
       "      <td>2</td>\n",
       "    </tr>\n",
       "    <tr>\n",
       "      <th>542934</th>\n",
       "      <td>43079191</td>\n",
       "      <td>100005</td>\n",
       "      <td>161830</td>\n",
       "      <td>FBFBE66F79A8407BF2DA061EB035A9E3BA60FB5C</td>\n",
       "      <td>2016-12-01 11:53:11</td>\n",
       "      <td>2016-12-01 09:10:44</td>\n",
       "      <td>2016-12-01 11:31:47</td>\n",
       "      <td>Nein</td>\n",
       "      <td>Nein</td>\n",
       "      <td>36</td>\n",
       "      <td>...</td>\n",
       "      <td>2016-12-01</td>\n",
       "      <td>2016-12-01</td>\n",
       "      <td>2016</td>\n",
       "      <td>12</td>\n",
       "      <td>3</td>\n",
       "      <td>4</td>\n",
       "      <td>12</td>\n",
       "      <td>12</td>\n",
       "      <td>3</td>\n",
       "      <td>3</td>\n",
       "    </tr>\n",
       "    <tr>\n",
       "      <th>542935</th>\n",
       "      <td>43087847</td>\n",
       "      <td>100005</td>\n",
       "      <td>161830</td>\n",
       "      <td>FBFBE66F79A8407BF2DA061EB035A9E3BA60FB5C</td>\n",
       "      <td>2016-12-01 19:59:15</td>\n",
       "      <td>2016-12-01 18:11:49</td>\n",
       "      <td>2016-12-01 19:58:13</td>\n",
       "      <td>Nein</td>\n",
       "      <td>Nein</td>\n",
       "      <td>34</td>\n",
       "      <td>...</td>\n",
       "      <td>2016-12-01</td>\n",
       "      <td>2016-12-01</td>\n",
       "      <td>2016</td>\n",
       "      <td>12</td>\n",
       "      <td>3</td>\n",
       "      <td>4</td>\n",
       "      <td>12</td>\n",
       "      <td>12</td>\n",
       "      <td>3</td>\n",
       "      <td>3</td>\n",
       "    </tr>\n",
       "    <tr>\n",
       "      <th>542936</th>\n",
       "      <td>43097826</td>\n",
       "      <td>100005</td>\n",
       "      <td>161830</td>\n",
       "      <td>FBFBE66F79A8407BF2DA061EB035A9E3BA60FB5C</td>\n",
       "      <td>2016-12-02 11:02:44</td>\n",
       "      <td>2016-12-02 09:06:58</td>\n",
       "      <td>2016-12-02 11:01:21</td>\n",
       "      <td>Nein</td>\n",
       "      <td>Nein</td>\n",
       "      <td>18</td>\n",
       "      <td>...</td>\n",
       "      <td>2016-12-02</td>\n",
       "      <td>2016-12-02</td>\n",
       "      <td>2016</td>\n",
       "      <td>12</td>\n",
       "      <td>4</td>\n",
       "      <td>4</td>\n",
       "      <td>12</td>\n",
       "      <td>12</td>\n",
       "      <td>4</td>\n",
       "      <td>4</td>\n",
       "    </tr>\n",
       "  </tbody>\n",
       "</table>\n",
       "<p>5 rows × 34 columns</p>\n",
       "</div>"
      ],
      "text/plain": [
       "        BOOKING_HAL_ID  CATEGORY_HAL_ID  VEHICLE_HAL_ID  \\\n",
       "542932        43060293           100005          161830   \n",
       "542933        43070512           100005          161830   \n",
       "542934        43079191           100005          161830   \n",
       "542935        43087847           100005          161830   \n",
       "542936        43097826           100005          161830   \n",
       "\n",
       "                                 CUSTOMER_HAL_ID        DATE_BOOKING  \\\n",
       "542932  FBFBE66F79A8407BF2DA061EB035A9E3BA60FB5C 2016-11-30 11:29:24   \n",
       "542933  FBFBE66F79A8407BF2DA061EB035A9E3BA60FB5C 2016-11-30 21:22:43   \n",
       "542934  FBFBE66F79A8407BF2DA061EB035A9E3BA60FB5C 2016-12-01 11:53:11   \n",
       "542935  FBFBE66F79A8407BF2DA061EB035A9E3BA60FB5C 2016-12-01 19:59:15   \n",
       "542936  FBFBE66F79A8407BF2DA061EB035A9E3BA60FB5C 2016-12-02 11:02:44   \n",
       "\n",
       "                 DATE_FROM          DATE_UNTIL COMPUTE_EXTRA_BOOKING_FEE  \\\n",
       "542932 2016-11-30 09:05:46 2016-11-30 10:48:14                      Nein   \n",
       "542933 2016-11-30 19:04:47 2016-11-30 21:20:02                      Nein   \n",
       "542934 2016-12-01 09:10:44 2016-12-01 11:31:47                      Nein   \n",
       "542935 2016-12-01 18:11:49 2016-12-01 19:58:13                      Nein   \n",
       "542936 2016-12-02 09:06:58 2016-12-02 11:01:21                      Nein   \n",
       "\n",
       "       TRAVERSE_USE DISTANCE    ...     BOOKING_DATE  FROM_DATE BOOKING_YEAR  \\\n",
       "542932         Nein       26    ...       2016-11-30 2016-11-30         2016   \n",
       "542933         Nein       57    ...       2016-11-30 2016-11-30         2016   \n",
       "542934         Nein       36    ...       2016-12-01 2016-12-01         2016   \n",
       "542935         Nein       34    ...       2016-12-01 2016-12-01         2016   \n",
       "542936         Nein       18    ...       2016-12-02 2016-12-02         2016   \n",
       "\n",
       "        BOOKING_MONTH BOOKING_WDAY BOOKING_QUARTER FROM_MONTH  UNTIL_MONTH  \\\n",
       "542932             11            2               4         11           11   \n",
       "542933             11            2               4         11           11   \n",
       "542934             12            3               4         12           12   \n",
       "542935             12            3               4         12           12   \n",
       "542936             12            4               4         12           12   \n",
       "\n",
       "        FROM_WDAY UNTIL_WDAY  \n",
       "542932          2          2  \n",
       "542933          2          2  \n",
       "542934          3          3  \n",
       "542935          3          3  \n",
       "542936          4          4  \n",
       "\n",
       "[5 rows x 34 columns]"
      ]
     },
     "execution_count": 86,
     "metadata": {},
     "output_type": "execute_result"
    }
   ],
   "source": [
    "year.tail()"
   ]
  },
  {
   "cell_type": "code",
   "execution_count": 87,
   "metadata": {
    "collapsed": true
   },
   "outputs": [],
   "source": [
    "per_day = year.pivot_table(index=['BOOKING_DATE'],values=['BOOKING_HAL_ID'], aggfunc=lambda x: len(x.unique()))"
   ]
  },
  {
   "cell_type": "code",
   "execution_count": 88,
   "metadata": {},
   "outputs": [
    {
     "data": {
      "text/html": [
       "<div>\n",
       "<style>\n",
       "    .dataframe thead tr:only-child th {\n",
       "        text-align: right;\n",
       "    }\n",
       "\n",
       "    .dataframe thead th {\n",
       "        text-align: left;\n",
       "    }\n",
       "\n",
       "    .dataframe tbody tr th {\n",
       "        vertical-align: top;\n",
       "    }\n",
       "</style>\n",
       "<table border=\"1\" class=\"dataframe\">\n",
       "  <thead>\n",
       "    <tr style=\"text-align: right;\">\n",
       "      <th></th>\n",
       "      <th>BOOKING_DATE</th>\n",
       "      <th>BOOKING_HAL_ID</th>\n",
       "    </tr>\n",
       "  </thead>\n",
       "  <tbody>\n",
       "    <tr>\n",
       "      <th>1091</th>\n",
       "      <td>2016-12-27</td>\n",
       "      <td>273</td>\n",
       "    </tr>\n",
       "    <tr>\n",
       "      <th>1092</th>\n",
       "      <td>2016-12-28</td>\n",
       "      <td>263</td>\n",
       "    </tr>\n",
       "    <tr>\n",
       "      <th>1093</th>\n",
       "      <td>2016-12-29</td>\n",
       "      <td>301</td>\n",
       "    </tr>\n",
       "    <tr>\n",
       "      <th>1094</th>\n",
       "      <td>2016-12-30</td>\n",
       "      <td>315</td>\n",
       "    </tr>\n",
       "    <tr>\n",
       "      <th>1095</th>\n",
       "      <td>2016-12-31</td>\n",
       "      <td>225</td>\n",
       "    </tr>\n",
       "  </tbody>\n",
       "</table>\n",
       "</div>"
      ],
      "text/plain": [
       "     BOOKING_DATE  BOOKING_HAL_ID\n",
       "1091   2016-12-27             273\n",
       "1092   2016-12-28             263\n",
       "1093   2016-12-29             301\n",
       "1094   2016-12-30             315\n",
       "1095   2016-12-31             225"
      ]
     },
     "execution_count": 88,
     "metadata": {},
     "output_type": "execute_result"
    }
   ],
   "source": [
    "per_day.reset_index(inplace=True)\n",
    "per_day.tail()"
   ]
  },
  {
   "cell_type": "markdown",
   "metadata": {},
   "source": [
    "# Prediction with out holiday data"
   ]
  },
  {
   "cell_type": "code",
   "execution_count": 89,
   "metadata": {
    "scrolled": true
   },
   "outputs": [
    {
     "name": "stderr",
     "output_type": "stream",
     "text": [
      "INFO:fbprophet.forecaster:Disabling daily seasonality. Run prophet with daily_seasonality=True to override this.\n"
     ]
    },
    {
     "data": {
      "text/plain": [
       "<fbprophet.forecaster.Prophet at 0x7f7cf57cf748>"
      ]
     },
     "execution_count": 89,
     "metadata": {},
     "output_type": "execute_result"
    }
   ],
   "source": [
    "# Prophet requires columns ds (Date) and y (value)\n",
    "per_day = per_day.rename(columns={'BOOKING_DATE': 'ds', 'BOOKING_HAL_ID': 'y'})\n",
    "# Put market cap in billions\n",
    "#per_day['y'] = per_day['y'] / 1e9\n",
    "# Make the prophet model and fit on the data\n",
    "per_day_prophet = fbprophet.Prophet(changepoint_prior_scale=0.15)\n",
    "per_day_prophet.fit(per_day)"
   ]
  },
  {
   "cell_type": "code",
   "execution_count": 90,
   "metadata": {
    "collapsed": true
   },
   "outputs": [],
   "source": [
    "# Make a future dataframe for 2 years\n",
    "per_day_forecast = per_day_prophet.make_future_dataframe(periods=24, freq='M')\n",
    "# Make predictions\n",
    "per_day_forecast = per_day_prophet.predict(per_day_forecast)"
   ]
  },
  {
   "cell_type": "code",
   "execution_count": null,
   "metadata": {},
   "outputs": [
    {
     "data": {
      "image/png": "[encoded data removed]",
      "text/plain": [
       "<matplotlib.figure.Figure at 0x7f7cf7618dd8>"
      ]
     },
     "metadata": {},
     "output_type": "display_data"
    }
   ],
   "source": [
    "per_day_prophet.plot(per_day_forecast, xlabel = 'Date', ylabel = 'No of bookings')\n",
    "plt.title('No of bookings');"
   ]
  },
  {
   "cell_type": "code",
   "execution_count": null,
   "metadata": {},
   "outputs": [],
   "source": [
    "per_day_prophet.plot_components(per_day_forecast);"
   ]
  },
  {
   "cell_type": "markdown",
   "metadata": {},
   "source": [
    "# Prediction with holiday data"
   ]
  },
  {
   "cell_type": "code",
   "execution_count": null,
   "metadata": {},
   "outputs": [],
   "source": [
    "promotions = pd.DataFrame({\n",
    "  'holiday': holidays.PUBLIC_HOLIDAYS,\n",
    "  'ds': holidays.BOOKING_DATE,\n",
    "  'lower_window': 0,\n",
    "  'upper_window': 0,\n",
    "})"
   ]
  },
  {
   "cell_type": "code",
   "execution_count": null,
   "metadata": {
    "scrolled": true
   },
   "outputs": [],
   "source": [
    "promotions.head()"
   ]
  },
  {
   "cell_type": "code",
   "execution_count": null,
   "metadata": {},
   "outputs": [],
   "source": [
    "model = Prophet(holidays=promotions)"
   ]
  },
  {
   "cell_type": "code",
   "execution_count": null,
   "metadata": {},
   "outputs": [],
   "source": [
    "model.fit(per_day)"
   ]
  },
  {
   "cell_type": "code",
   "execution_count": null,
   "metadata": {},
   "outputs": [],
   "source": [
    "future = model.make_future_dataframe(periods=24, freq = 'm')\n",
    "future.tail()"
   ]
  },
  {
   "cell_type": "code",
   "execution_count": null,
   "metadata": {
    "collapsed": true
   },
   "outputs": [],
   "source": [
    "forecast = model.predict(future)"
   ]
  },
  {
   "cell_type": "code",
   "execution_count": null,
   "metadata": {},
   "outputs": [],
   "source": [
    "model.plot(forecast);"
   ]
  },
  {
   "cell_type": "code",
   "execution_count": null,
   "metadata": {},
   "outputs": [],
   "source": [
    "model.plot_components(forecast);"
   ]
  },
  {
   "cell_type": "markdown",
   "metadata": {},
   "source": [
    "# Difference between holiday and non-holiday"
   ]
  },
  {
   "cell_type": "code",
   "execution_count": null,
   "metadata": {},
   "outputs": [],
   "source": [
    "forecast.head()"
   ]
  },
  {
   "cell_type": "code",
   "execution_count": null,
   "metadata": {
    "scrolled": true
   },
   "outputs": [],
   "source": [
    "forecast.set_index('ds', inplace=True)\n",
    "per_day_forecast.set_index('ds', inplace=True)\n",
    "compared_df = forecast.join(per_day_forecast, rsuffix=\"_no_holiday\")"
   ]
  },
  {
   "cell_type": "code",
   "execution_count": null,
   "metadata": {},
   "outputs": [],
   "source": [
    "compared_df= np.exp(compared_df[['yhat', 'yhat_no_holiday']])"
   ]
  },
  {
   "cell_type": "code",
   "execution_count": null,
   "metadata": {},
   "outputs": [],
   "source": [
    "compared_df['diff_per'] = 100*(compared_df['yhat'] - compared_df['yhat_no_holiday']) / compared_df['yhat_no_holiday']\n",
    "compared_df.tail()"
   ]
  },
  {
   "cell_type": "code",
   "execution_count": null,
   "metadata": {},
   "outputs": [],
   "source": [
    "compared_df['diff_per'].mean()"
   ]
  },
  {
   "cell_type": "markdown",
   "metadata": {},
   "source": [
    "# Effect of Changepoint Prior Scale"
   ]
  },
  {
   "cell_type": "code",
   "execution_count": null,
   "metadata": {},
   "outputs": [],
   "source": [
    "# Try 4 different changepoints\n",
    "for changepoint in [0.001, 0.05, 0.1, 0.5]:\n",
    "    model = fbprophet.Prophet(daily_seasonality=False, changepoint_prior_scale=changepoint)\n",
    "    model.fit(per_day)\n",
    "    \n",
    "    future = model.make_future_dataframe(periods=12, freq='M')\n",
    "    future = model.predict(future)\n",
    "    \n",
    "    per_day[changepoint] = future['yhat']"
   ]
  },
  {
   "cell_type": "code",
   "execution_count": null,
   "metadata": {},
   "outputs": [],
   "source": [
    "plt.figure(figsize=(10, 8))\n",
    "\n",
    "# Actual observations\n",
    "plt.plot(per_day['ds'], per_day['y'], 'ko', label = 'Observations')\n",
    "colors = {0.001: 'b', 0.05: 'r', 0.1: 'green', 0.5: 'gold'}\n",
    "\n",
    "# Plot each of the changepoint predictions\n",
    "for changepoint in [0.001, 0.05, 0.1, 0.5]:\n",
    "    plt.plot(per_day['ds'], per_day[changepoint], color = colors[changepoint], label = '%.3f prior scale' % changepoint)\n",
    "    \n",
    "plt.legend(prop={'size': 14})\n",
    "plt.xlabel('Date'); plt.ylabel('Number of bookings'); plt.title('Effect of Changepoint Prior Scale');\n"
   ]
  },
  {
   "cell_type": "code",
   "execution_count": null,
   "metadata": {
    "collapsed": true
   },
   "outputs": [],
   "source": []
  }
 ],
 "metadata": {
  "kernelspec": {
   "display_name": "Python 3",
   "language": "python",
   "name": "python3"
  },
  "language_info": {
   "codemirror_mode": {
    "name": "ipython",
    "version": 3
   },
   "file_extension": ".py",
   "mimetype": "text/x-python",
   "name": "python",
   "nbconvert_exporter": "python",
   "pygments_lexer": "ipython3",
   "version": "3.6.1"
  }
 },
 "nbformat": 4,
 "nbformat_minor": 2
}
