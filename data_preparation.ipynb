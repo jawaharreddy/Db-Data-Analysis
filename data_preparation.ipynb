{
 "cells": [
  {
   "cell_type": "markdown",
   "metadata": {},
   "source": [
    "# Libraries"
   ]
  },
  {
   "cell_type": "code",
   "execution_count": 1,
   "metadata": {},
   "outputs": [
    {
     "data": {
      "text/html": [
       "<script>requirejs.config({paths: { 'plotly': ['https://cdn.plot.ly/plotly-latest.min']},});if(!window.Plotly) {{require(['plotly'],function(plotly) {window.Plotly=plotly;});}}</script>"
      ],
      "text/vnd.plotly.v1+html": [
       "<script>requirejs.config({paths: { 'plotly': ['https://cdn.plot.ly/plotly-latest.min']},});if(!window.Plotly) {{require(['plotly'],function(plotly) {window.Plotly=plotly;});}}</script>"
      ]
     },
     "metadata": {},
     "output_type": "display_data"
    }
   ],
   "source": [
    "import numpy as np\n",
    "import pandas as pd\n",
    "import matplotlib.pyplot as plt\n",
    "%matplotlib inline\n",
    "import seaborn as sns\n",
    "import plotly.offline as py\n",
    "import plotly.graph_objs as go\n",
    "import glob\n",
    "import os\n",
    "\n",
    "py.init_notebook_mode(connected=True)"
   ]
  },
  {
   "cell_type": "markdown",
   "metadata": {},
   "source": [
    "# DataSet"
   ]
  },
  {
   "cell_type": "code",
   "execution_count": 2,
   "metadata": {
    "scrolled": true
   },
   "outputs": [
    {
     "data": {
      "text/html": [
       "<div>\n",
       "<style>\n",
       "    .dataframe thead tr:only-child th {\n",
       "        text-align: right;\n",
       "    }\n",
       "\n",
       "    .dataframe thead th {\n",
       "        text-align: left;\n",
       "    }\n",
       "\n",
       "    .dataframe tbody tr th {\n",
       "        vertical-align: top;\n",
       "    }\n",
       "</style>\n",
       "<table border=\"1\" class=\"dataframe\">\n",
       "  <thead>\n",
       "    <tr style=\"text-align: right;\">\n",
       "      <th></th>\n",
       "      <th>BOOKING_HAL_ID</th>\n",
       "      <th>CATEGORY_HAL_ID</th>\n",
       "      <th>VEHICLE_HAL_ID</th>\n",
       "      <th>CUSTOMER_HAL_ID</th>\n",
       "      <th>DATE_BOOKING</th>\n",
       "      <th>DATE_FROM</th>\n",
       "      <th>DATE_UNTIL</th>\n",
       "      <th>COMPUTE_EXTRA_BOOKING_FEE</th>\n",
       "      <th>TRAVERSE_USE</th>\n",
       "      <th>DISTANCE</th>\n",
       "      <th>START_RENTAL_ZONE</th>\n",
       "      <th>START_RENTAL_ZONE_HAL_ID</th>\n",
       "      <th>END_RENTAL_ZONE</th>\n",
       "      <th>END_RENTAL_ZONE_HAL_ID</th>\n",
       "      <th>RENTAL_ZONE_HAL_SRC</th>\n",
       "      <th>CITY_RENTAL_ZONE</th>\n",
       "      <th>TECHNICAL_INCOME_CHANNEL</th>\n",
       "    </tr>\n",
       "  </thead>\n",
       "  <tbody>\n",
       "    <tr>\n",
       "      <th>548069</th>\n",
       "      <td>46385327</td>\n",
       "      <td>100001</td>\n",
       "      <td>149218</td>\n",
       "      <td>B45F2CFD95C5887698AD87B6596102E24DCCE243</td>\n",
       "      <td>2017-05-16 07:15:07</td>\n",
       "      <td>2017-05-16 07:15:00</td>\n",
       "      <td>2017-05-16 08:15:00</td>\n",
       "      <td>Nein</td>\n",
       "      <td>Ja</td>\n",
       "      <td>NaN</td>\n",
       "      <td>Sredzkistraße</td>\n",
       "      <td>402667</td>\n",
       "      <td>Sredzkistraße</td>\n",
       "      <td>402667</td>\n",
       "      <td>Station</td>\n",
       "      <td>Berlin</td>\n",
       "      <td>Flinkster iPhone</td>\n",
       "    </tr>\n",
       "    <tr>\n",
       "      <th>548070</th>\n",
       "      <td>46385351</td>\n",
       "      <td>100001</td>\n",
       "      <td>174116</td>\n",
       "      <td>954FB74EF255E4089D3D7DA3FE6234DE781BFDD3</td>\n",
       "      <td>2017-05-16 07:16:29</td>\n",
       "      <td>2017-05-16 08:30:00</td>\n",
       "      <td>2017-05-16 12:30:00</td>\n",
       "      <td>Nein</td>\n",
       "      <td>Nein</td>\n",
       "      <td>NaN</td>\n",
       "      <td>Bf Köln Messe/Deutz</td>\n",
       "      <td>400755</td>\n",
       "      <td>Bf Köln Messe/Deutz</td>\n",
       "      <td>400755</td>\n",
       "      <td>Station</td>\n",
       "      <td>Köln</td>\n",
       "      <td>Internet</td>\n",
       "    </tr>\n",
       "    <tr>\n",
       "      <th>548071</th>\n",
       "      <td>46385778</td>\n",
       "      <td>100001</td>\n",
       "      <td>173552</td>\n",
       "      <td>A986BBFA0F81DD3D2EB02A97A30A97CF111BD2C1</td>\n",
       "      <td>2017-05-16 07:37:19</td>\n",
       "      <td>2017-05-16 08:45:00</td>\n",
       "      <td>2017-05-18 09:45:00</td>\n",
       "      <td>Nein</td>\n",
       "      <td>Nein</td>\n",
       "      <td>NaN</td>\n",
       "      <td>Hbf Saarbrücken</td>\n",
       "      <td>400280</td>\n",
       "      <td>Hbf Saarbrücken</td>\n",
       "      <td>400280</td>\n",
       "      <td>Station</td>\n",
       "      <td>Saarbrücken</td>\n",
       "      <td>Internet</td>\n",
       "    </tr>\n",
       "    <tr>\n",
       "      <th>548072</th>\n",
       "      <td>46385814</td>\n",
       "      <td>100012</td>\n",
       "      <td>169106</td>\n",
       "      <td>1127C45D5E5C398FE0BCAF07D6C6694C2C9E0B0B</td>\n",
       "      <td>2017-05-16 07:39:22</td>\n",
       "      <td>2017-05-16 07:45:00</td>\n",
       "      <td>2017-05-16 10:45:00</td>\n",
       "      <td>Nein</td>\n",
       "      <td>Nein</td>\n",
       "      <td>NaN</td>\n",
       "      <td>Hbf Gelsenkirchen</td>\n",
       "      <td>406277</td>\n",
       "      <td>Hbf Gelsenkirchen</td>\n",
       "      <td>406277</td>\n",
       "      <td>Station</td>\n",
       "      <td>Gelsenkirchen</td>\n",
       "      <td>Internet</td>\n",
       "    </tr>\n",
       "  </tbody>\n",
       "</table>\n",
       "</div>"
      ],
      "text/plain": [
       "        BOOKING_HAL_ID  CATEGORY_HAL_ID  VEHICLE_HAL_ID  \\\n",
       "548069        46385327           100001          149218   \n",
       "548070        46385351           100001          174116   \n",
       "548071        46385778           100001          173552   \n",
       "548072        46385814           100012          169106   \n",
       "\n",
       "                                 CUSTOMER_HAL_ID         DATE_BOOKING  \\\n",
       "548069  B45F2CFD95C5887698AD87B6596102E24DCCE243  2017-05-16 07:15:07   \n",
       "548070  954FB74EF255E4089D3D7DA3FE6234DE781BFDD3  2017-05-16 07:16:29   \n",
       "548071  A986BBFA0F81DD3D2EB02A97A30A97CF111BD2C1  2017-05-16 07:37:19   \n",
       "548072  1127C45D5E5C398FE0BCAF07D6C6694C2C9E0B0B  2017-05-16 07:39:22   \n",
       "\n",
       "                  DATE_FROM           DATE_UNTIL COMPUTE_EXTRA_BOOKING_FEE  \\\n",
       "548069  2017-05-16 07:15:00  2017-05-16 08:15:00                      Nein   \n",
       "548070  2017-05-16 08:30:00  2017-05-16 12:30:00                      Nein   \n",
       "548071  2017-05-16 08:45:00  2017-05-18 09:45:00                      Nein   \n",
       "548072  2017-05-16 07:45:00  2017-05-16 10:45:00                      Nein   \n",
       "\n",
       "       TRAVERSE_USE  DISTANCE    START_RENTAL_ZONE  START_RENTAL_ZONE_HAL_ID  \\\n",
       "548069           Ja       NaN        Sredzkistraße                    402667   \n",
       "548070         Nein       NaN  Bf Köln Messe/Deutz                    400755   \n",
       "548071         Nein       NaN      Hbf Saarbrücken                    400280   \n",
       "548072         Nein       NaN    Hbf Gelsenkirchen                    406277   \n",
       "\n",
       "            END_RENTAL_ZONE  END_RENTAL_ZONE_HAL_ID RENTAL_ZONE_HAL_SRC  \\\n",
       "548069        Sredzkistraße                  402667             Station   \n",
       "548070  Bf Köln Messe/Deutz                  400755             Station   \n",
       "548071      Hbf Saarbrücken                  400280             Station   \n",
       "548072    Hbf Gelsenkirchen                  406277             Station   \n",
       "\n",
       "       CITY_RENTAL_ZONE TECHNICAL_INCOME_CHANNEL  \n",
       "548069           Berlin         Flinkster iPhone  \n",
       "548070             Köln                 Internet  \n",
       "548071      Saarbrücken                 Internet  \n",
       "548072    Gelsenkirchen                 Internet  "
      ]
     },
     "execution_count": 2,
     "metadata": {},
     "output_type": "execute_result"
    }
   ],
   "source": [
    "db_data = pd.read_csv(\"OPENDATA_BOOKING_CARSHARING.csv\", sep=';', header=0)\n",
    "db_data[548069:]"
   ]
  },
  {
   "cell_type": "code",
   "execution_count": 3,
   "metadata": {
    "collapsed": true
   },
   "outputs": [],
   "source": [
    "db_data['TRAVERSE'] = db_data['TRAVERSE_USE'].map({'Nein' : 0 , 'Ja':1}).astype(int)\n",
    "db_data['EXTRA_BOOKING_FEE']= db_data['COMPUTE_EXTRA_BOOKING_FEE'].map({'Nein': 0 , 'Ja': 1}).astype(int)\n",
    "#db_data['RENTAL_ZONE_HAL_SRC']= db_data['RENTAL_ZONE_HAL_SRC'].map({'Station': 1}).astype(int)\n",
    "#db_data.head()"
   ]
  },
  {
   "cell_type": "code",
   "execution_count": 4,
   "metadata": {
    "collapsed": true
   },
   "outputs": [],
   "source": [
    "db_data['TECHNICAL_INCOME_CHANNEL'].fillna('UNKNOWN', inplace=True)"
   ]
  },
  {
   "cell_type": "code",
   "execution_count": 5,
   "metadata": {
    "collapsed": true,
    "scrolled": true
   },
   "outputs": [],
   "source": [
    "db_data = db_data[db_data.TECHNICAL_INCOME_CHANNEL != 'UNKNOWN']"
   ]
  },
  {
   "cell_type": "code",
   "execution_count": 6,
   "metadata": {
    "collapsed": true
   },
   "outputs": [],
   "source": [
    "db_data['DISTANCE'].fillna('UNKNOWN', inplace=True)"
   ]
  },
  {
   "cell_type": "code",
   "execution_count": 7,
   "metadata": {
    "collapsed": true
   },
   "outputs": [],
   "source": [
    "db_data = db_data[db_data.DISTANCE != 'UNKNOWN']"
   ]
  },
  {
   "cell_type": "code",
   "execution_count": 8,
   "metadata": {
    "collapsed": true
   },
   "outputs": [],
   "source": [
    "#db_data.isnull().sum()"
   ]
  },
  {
   "cell_type": "code",
   "execution_count": 9,
   "metadata": {
    "collapsed": true,
    "scrolled": false
   },
   "outputs": [],
   "source": [
    "#db_data.apply(lambda x: len(x.unique()))"
   ]
  },
  {
   "cell_type": "code",
   "execution_count": 10,
   "metadata": {
    "collapsed": true
   },
   "outputs": [],
   "source": [
    "cartype = pd.read_csv(\"OPENDATA_VEHICLE_CARSHARING.csv\", sep=';', header=0)\n",
    "columns = ['VEHICLE_MODEL_TYPE','VEHICLE_MODEL_NAME','VEHICLE_TYPE_NAME','VIN','REGISTRATION_PLATE','SERIAL_NUMBER','KW','OWNERSHIP_TYPE','CAPACITY_AMOUNT', 'ACCESS_CONTROL_COMPONENT_TYPE', 'COMPANY', 'COMPANY_GROUP'] \n",
    "cartype.drop(columns, inplace=True, axis=1)\n",
    "#cartype.head()\n",
    "carmerge = pd.merge(db_data, cartype, on ='VEHICLE_HAL_ID')\n",
    "#carmerge.head()"
   ]
  },
  {
   "cell_type": "code",
   "execution_count": 11,
   "metadata": {
    "collapsed": true
   },
   "outputs": [],
   "source": [
    "#carmerge.apply(lambda x: len(x.unique()))"
   ]
  },
  {
   "cell_type": "code",
   "execution_count": 12,
   "metadata": {},
   "outputs": [
    {
     "data": {
      "text/html": [
       "<div>\n",
       "<style>\n",
       "    .dataframe thead tr:only-child th {\n",
       "        text-align: right;\n",
       "    }\n",
       "\n",
       "    .dataframe thead th {\n",
       "        text-align: left;\n",
       "    }\n",
       "\n",
       "    .dataframe tbody tr th {\n",
       "        vertical-align: top;\n",
       "    }\n",
       "</style>\n",
       "<table border=\"1\" class=\"dataframe\">\n",
       "  <thead>\n",
       "    <tr style=\"text-align: right;\">\n",
       "      <th></th>\n",
       "      <th>CATEGORY_HAL_ID</th>\n",
       "      <th>CATEGORY</th>\n",
       "    </tr>\n",
       "  </thead>\n",
       "  <tbody>\n",
       "    <tr>\n",
       "      <th>0</th>\n",
       "      <td>100000</td>\n",
       "      <td>Werbeklasse (mit Beklebung)</td>\n",
       "    </tr>\n",
       "    <tr>\n",
       "      <th>1</th>\n",
       "      <td>100001</td>\n",
       "      <td>Kleinklasse (teilweise ohne Navi)</td>\n",
       "    </tr>\n",
       "    <tr>\n",
       "      <th>2</th>\n",
       "      <td>100002</td>\n",
       "      <td>Mini (teilweise ohne Navi)</td>\n",
       "    </tr>\n",
       "    <tr>\n",
       "      <th>3</th>\n",
       "      <td>100003</td>\n",
       "      <td>Kompaktklasse</td>\n",
       "    </tr>\n",
       "    <tr>\n",
       "      <th>4</th>\n",
       "      <td>100004</td>\n",
       "      <td>Zubehör</td>\n",
       "    </tr>\n",
       "  </tbody>\n",
       "</table>\n",
       "</div>"
      ],
      "text/plain": [
       "   CATEGORY_HAL_ID                           CATEGORY\n",
       "0           100000        Werbeklasse (mit Beklebung)\n",
       "1           100001  Kleinklasse (teilweise ohne Navi)\n",
       "2           100002         Mini (teilweise ohne Navi)\n",
       "3           100003                      Kompaktklasse\n",
       "4           100004                            Zubehör"
      ]
     },
     "execution_count": 12,
     "metadata": {},
     "output_type": "execute_result"
    }
   ],
   "source": [
    "catgtype = pd.read_csv(\"OPENDATA_CATEGORY_CARSHARING.csv\", sep=';', header=0)\n",
    "columns = ['COMPANY','COMPANY_GROUP']\n",
    "catgtype.drop(columns, inplace=True, axis=1)\n",
    "catgtype = catgtype.rename(columns={'HAL_ID':'CATEGORY_HAL_ID'})\n",
    "data_p = pd.merge(carmerge, catgtype, on ='CATEGORY_HAL_ID')\n",
    "catgtype.head()"
   ]
  },
  {
   "cell_type": "code",
   "execution_count": 13,
   "metadata": {
    "collapsed": true
   },
   "outputs": [],
   "source": [
    "#data_p.apply(lambda x: len(x.unique()))"
   ]
  },
  {
   "cell_type": "code",
   "execution_count": 14,
   "metadata": {
    "collapsed": true
   },
   "outputs": [],
   "source": [
    "#data_p.isnull().sum()"
   ]
  },
  {
   "cell_type": "code",
   "execution_count": 15,
   "metadata": {
    "collapsed": true,
    "scrolled": true
   },
   "outputs": [],
   "source": [
    "population = pd.read_csv(\"Germany_population_by_city_2015.csv\", sep=',', header=0)\n",
    "#population"
   ]
  },
  {
   "cell_type": "code",
   "execution_count": 16,
   "metadata": {},
   "outputs": [
    {
     "data": {
      "text/plain": [
       "CITY_RENTAL_ZONE    85\n",
       "POPULATION          85\n",
       "FEDERAL_STATE       15\n",
       "dtype: int64"
      ]
     },
     "execution_count": 16,
     "metadata": {},
     "output_type": "execute_result"
    }
   ],
   "source": [
    "population.apply(lambda x: len(x.unique()))"
   ]
  },
  {
   "cell_type": "code",
   "execution_count": 17,
   "metadata": {
    "scrolled": true
   },
   "outputs": [
    {
     "data": {
      "text/html": [
       "<div>\n",
       "<style>\n",
       "    .dataframe thead tr:only-child th {\n",
       "        text-align: right;\n",
       "    }\n",
       "\n",
       "    .dataframe thead th {\n",
       "        text-align: left;\n",
       "    }\n",
       "\n",
       "    .dataframe tbody tr th {\n",
       "        vertical-align: top;\n",
       "    }\n",
       "</style>\n",
       "<table border=\"1\" class=\"dataframe\">\n",
       "  <thead>\n",
       "    <tr style=\"text-align: right;\">\n",
       "      <th></th>\n",
       "      <th>BOOKING_HAL_ID</th>\n",
       "      <th>CATEGORY_HAL_ID</th>\n",
       "      <th>VEHICLE_HAL_ID</th>\n",
       "      <th>CUSTOMER_HAL_ID</th>\n",
       "      <th>DATE_BOOKING</th>\n",
       "      <th>DATE_FROM</th>\n",
       "      <th>DATE_UNTIL</th>\n",
       "      <th>COMPUTE_EXTRA_BOOKING_FEE</th>\n",
       "      <th>TRAVERSE_USE</th>\n",
       "      <th>DISTANCE</th>\n",
       "      <th>...</th>\n",
       "      <th>RENTAL_ZONE_HAL_SRC</th>\n",
       "      <th>CITY_RENTAL_ZONE</th>\n",
       "      <th>TECHNICAL_INCOME_CHANNEL</th>\n",
       "      <th>TRAVERSE</th>\n",
       "      <th>EXTRA_BOOKING_FEE</th>\n",
       "      <th>VEHICLE_MANUFACTURER_NAME</th>\n",
       "      <th>FUEL_TYPE_NAME</th>\n",
       "      <th>CATEGORY</th>\n",
       "      <th>POPULATION</th>\n",
       "      <th>FEDERAL_STATE</th>\n",
       "    </tr>\n",
       "  </thead>\n",
       "  <tbody>\n",
       "    <tr>\n",
       "      <th>0</th>\n",
       "      <td>17842196</td>\n",
       "      <td>100012</td>\n",
       "      <td>150359</td>\n",
       "      <td>9680D41CFEFE292240253676FF6DD6C242B98EFD</td>\n",
       "      <td>2013-06-05 08:49:33</td>\n",
       "      <td>2014-01-12 13:00:00</td>\n",
       "      <td>2014-01-12 14:30:00</td>\n",
       "      <td>Nein</td>\n",
       "      <td>Nein</td>\n",
       "      <td>14</td>\n",
       "      <td>...</td>\n",
       "      <td>Station</td>\n",
       "      <td>Köln</td>\n",
       "      <td>Internet</td>\n",
       "      <td>0</td>\n",
       "      <td>0</td>\n",
       "      <td>Citroën</td>\n",
       "      <td>Diesel</td>\n",
       "      <td>Sonderklasse (Alfa MiTo / Citroën DS3)</td>\n",
       "      <td>1060582</td>\n",
       "      <td>Nordrhein-Westfalen</td>\n",
       "    </tr>\n",
       "    <tr>\n",
       "      <th>1</th>\n",
       "      <td>19923967</td>\n",
       "      <td>100012</td>\n",
       "      <td>150359</td>\n",
       "      <td>9680D41CFEFE292240253676FF6DD6C242B98EFD</td>\n",
       "      <td>2013-09-15 12:19:14</td>\n",
       "      <td>2014-01-05 14:00:00</td>\n",
       "      <td>2014-01-05 15:30:00</td>\n",
       "      <td>Nein</td>\n",
       "      <td>Nein</td>\n",
       "      <td>0</td>\n",
       "      <td>...</td>\n",
       "      <td>Station</td>\n",
       "      <td>Köln</td>\n",
       "      <td>Internet</td>\n",
       "      <td>0</td>\n",
       "      <td>0</td>\n",
       "      <td>Citroën</td>\n",
       "      <td>Diesel</td>\n",
       "      <td>Sonderklasse (Alfa MiTo / Citroën DS3)</td>\n",
       "      <td>1060582</td>\n",
       "      <td>Nordrhein-Westfalen</td>\n",
       "    </tr>\n",
       "    <tr>\n",
       "      <th>2</th>\n",
       "      <td>20453330</td>\n",
       "      <td>100012</td>\n",
       "      <td>150359</td>\n",
       "      <td>9680D41CFEFE292240253676FF6DD6C242B98EFD</td>\n",
       "      <td>2013-10-19 13:25:38</td>\n",
       "      <td>2014-03-16 18:15:00</td>\n",
       "      <td>2014-03-16 19:30:00</td>\n",
       "      <td>Nein</td>\n",
       "      <td>Nein</td>\n",
       "      <td>17</td>\n",
       "      <td>...</td>\n",
       "      <td>Station</td>\n",
       "      <td>Köln</td>\n",
       "      <td>Internet</td>\n",
       "      <td>0</td>\n",
       "      <td>0</td>\n",
       "      <td>Citroën</td>\n",
       "      <td>Diesel</td>\n",
       "      <td>Sonderklasse (Alfa MiTo / Citroën DS3)</td>\n",
       "      <td>1060582</td>\n",
       "      <td>Nordrhein-Westfalen</td>\n",
       "    </tr>\n",
       "    <tr>\n",
       "      <th>3</th>\n",
       "      <td>20799835</td>\n",
       "      <td>100012</td>\n",
       "      <td>150359</td>\n",
       "      <td>D564D3A1EA8BF096581556520B8F6582BEB65EFD</td>\n",
       "      <td>2013-11-10 14:10:26</td>\n",
       "      <td>2014-01-06 17:00:00</td>\n",
       "      <td>2014-01-06 23:45:00</td>\n",
       "      <td>Nein</td>\n",
       "      <td>Nein</td>\n",
       "      <td>16</td>\n",
       "      <td>...</td>\n",
       "      <td>Station</td>\n",
       "      <td>Köln</td>\n",
       "      <td>Internet</td>\n",
       "      <td>0</td>\n",
       "      <td>0</td>\n",
       "      <td>Citroën</td>\n",
       "      <td>Diesel</td>\n",
       "      <td>Sonderklasse (Alfa MiTo / Citroën DS3)</td>\n",
       "      <td>1060582</td>\n",
       "      <td>Nordrhein-Westfalen</td>\n",
       "    </tr>\n",
       "    <tr>\n",
       "      <th>4</th>\n",
       "      <td>20799864</td>\n",
       "      <td>100012</td>\n",
       "      <td>150359</td>\n",
       "      <td>D564D3A1EA8BF096581556520B8F6582BEB65EFD</td>\n",
       "      <td>2013-11-10 14:13:25</td>\n",
       "      <td>2014-01-13 17:00:00</td>\n",
       "      <td>2014-01-13 23:45:00</td>\n",
       "      <td>Nein</td>\n",
       "      <td>Nein</td>\n",
       "      <td>16</td>\n",
       "      <td>...</td>\n",
       "      <td>Station</td>\n",
       "      <td>Köln</td>\n",
       "      <td>Internet</td>\n",
       "      <td>0</td>\n",
       "      <td>0</td>\n",
       "      <td>Citroën</td>\n",
       "      <td>Diesel</td>\n",
       "      <td>Sonderklasse (Alfa MiTo / Citroën DS3)</td>\n",
       "      <td>1060582</td>\n",
       "      <td>Nordrhein-Westfalen</td>\n",
       "    </tr>\n",
       "    <tr>\n",
       "      <th>5</th>\n",
       "      <td>20799880</td>\n",
       "      <td>100012</td>\n",
       "      <td>150359</td>\n",
       "      <td>D564D3A1EA8BF096581556520B8F6582BEB65EFD</td>\n",
       "      <td>2013-11-10 14:14:54</td>\n",
       "      <td>2014-01-20 17:00:00</td>\n",
       "      <td>2014-01-20 23:45:00</td>\n",
       "      <td>Nein</td>\n",
       "      <td>Nein</td>\n",
       "      <td>15</td>\n",
       "      <td>...</td>\n",
       "      <td>Station</td>\n",
       "      <td>Köln</td>\n",
       "      <td>Internet</td>\n",
       "      <td>0</td>\n",
       "      <td>0</td>\n",
       "      <td>Citroën</td>\n",
       "      <td>Diesel</td>\n",
       "      <td>Sonderklasse (Alfa MiTo / Citroën DS3)</td>\n",
       "      <td>1060582</td>\n",
       "      <td>Nordrhein-Westfalen</td>\n",
       "    </tr>\n",
       "    <tr>\n",
       "      <th>6</th>\n",
       "      <td>20896382</td>\n",
       "      <td>100012</td>\n",
       "      <td>150359</td>\n",
       "      <td>9680D41CFEFE292240253676FF6DD6C242B98EFD</td>\n",
       "      <td>2013-11-17 12:42:57</td>\n",
       "      <td>2014-02-04 08:45:00</td>\n",
       "      <td>2014-02-04 10:15:00</td>\n",
       "      <td>Nein</td>\n",
       "      <td>Nein</td>\n",
       "      <td>5</td>\n",
       "      <td>...</td>\n",
       "      <td>Station</td>\n",
       "      <td>Köln</td>\n",
       "      <td>Internet</td>\n",
       "      <td>0</td>\n",
       "      <td>0</td>\n",
       "      <td>Citroën</td>\n",
       "      <td>Diesel</td>\n",
       "      <td>Sonderklasse (Alfa MiTo / Citroën DS3)</td>\n",
       "      <td>1060582</td>\n",
       "      <td>Nordrhein-Westfalen</td>\n",
       "    </tr>\n",
       "    <tr>\n",
       "      <th>7</th>\n",
       "      <td>20896766</td>\n",
       "      <td>100012</td>\n",
       "      <td>150359</td>\n",
       "      <td>9680D41CFEFE292240253676FF6DD6C242B98EFD</td>\n",
       "      <td>2013-11-17 13:20:34</td>\n",
       "      <td>2014-01-01 14:30:00</td>\n",
       "      <td>2014-01-01 16:00:00</td>\n",
       "      <td>Nein</td>\n",
       "      <td>Nein</td>\n",
       "      <td>16</td>\n",
       "      <td>...</td>\n",
       "      <td>Station</td>\n",
       "      <td>Köln</td>\n",
       "      <td>Internet</td>\n",
       "      <td>0</td>\n",
       "      <td>0</td>\n",
       "      <td>Citroën</td>\n",
       "      <td>Diesel</td>\n",
       "      <td>Sonderklasse (Alfa MiTo / Citroën DS3)</td>\n",
       "      <td>1060582</td>\n",
       "      <td>Nordrhein-Westfalen</td>\n",
       "    </tr>\n",
       "    <tr>\n",
       "      <th>8</th>\n",
       "      <td>21378191</td>\n",
       "      <td>100012</td>\n",
       "      <td>150359</td>\n",
       "      <td>0FC7F06DDDD951AF7009288F8D4B9060925ED107</td>\n",
       "      <td>2014-01-02 17:54:09</td>\n",
       "      <td>2014-01-03 09:00:00</td>\n",
       "      <td>2014-01-03 22:30:00</td>\n",
       "      <td>Nein</td>\n",
       "      <td>Nein</td>\n",
       "      <td>1001</td>\n",
       "      <td>...</td>\n",
       "      <td>Station</td>\n",
       "      <td>Köln</td>\n",
       "      <td>Internet</td>\n",
       "      <td>0</td>\n",
       "      <td>0</td>\n",
       "      <td>Citroën</td>\n",
       "      <td>Diesel</td>\n",
       "      <td>Sonderklasse (Alfa MiTo / Citroën DS3)</td>\n",
       "      <td>1060582</td>\n",
       "      <td>Nordrhein-Westfalen</td>\n",
       "    </tr>\n",
       "    <tr>\n",
       "      <th>9</th>\n",
       "      <td>21394268</td>\n",
       "      <td>100012</td>\n",
       "      <td>150359</td>\n",
       "      <td>0646C8373257083080F514A1E7B483BE1020D949</td>\n",
       "      <td>2014-01-04 15:07:28</td>\n",
       "      <td>2014-01-04 16:30:00</td>\n",
       "      <td>2014-01-04 17:30:00</td>\n",
       "      <td>Nein</td>\n",
       "      <td>Nein</td>\n",
       "      <td>2</td>\n",
       "      <td>...</td>\n",
       "      <td>Station</td>\n",
       "      <td>Köln</td>\n",
       "      <td>Internet</td>\n",
       "      <td>0</td>\n",
       "      <td>0</td>\n",
       "      <td>Citroën</td>\n",
       "      <td>Diesel</td>\n",
       "      <td>Sonderklasse (Alfa MiTo / Citroën DS3)</td>\n",
       "      <td>1060582</td>\n",
       "      <td>Nordrhein-Westfalen</td>\n",
       "    </tr>\n",
       "  </tbody>\n",
       "</table>\n",
       "<p>10 rows × 24 columns</p>\n",
       "</div>"
      ],
      "text/plain": [
       "   BOOKING_HAL_ID  CATEGORY_HAL_ID  VEHICLE_HAL_ID  \\\n",
       "0        17842196           100012          150359   \n",
       "1        19923967           100012          150359   \n",
       "2        20453330           100012          150359   \n",
       "3        20799835           100012          150359   \n",
       "4        20799864           100012          150359   \n",
       "5        20799880           100012          150359   \n",
       "6        20896382           100012          150359   \n",
       "7        20896766           100012          150359   \n",
       "8        21378191           100012          150359   \n",
       "9        21394268           100012          150359   \n",
       "\n",
       "                            CUSTOMER_HAL_ID         DATE_BOOKING  \\\n",
       "0  9680D41CFEFE292240253676FF6DD6C242B98EFD  2013-06-05 08:49:33   \n",
       "1  9680D41CFEFE292240253676FF6DD6C242B98EFD  2013-09-15 12:19:14   \n",
       "2  9680D41CFEFE292240253676FF6DD6C242B98EFD  2013-10-19 13:25:38   \n",
       "3  D564D3A1EA8BF096581556520B8F6582BEB65EFD  2013-11-10 14:10:26   \n",
       "4  D564D3A1EA8BF096581556520B8F6582BEB65EFD  2013-11-10 14:13:25   \n",
       "5  D564D3A1EA8BF096581556520B8F6582BEB65EFD  2013-11-10 14:14:54   \n",
       "6  9680D41CFEFE292240253676FF6DD6C242B98EFD  2013-11-17 12:42:57   \n",
       "7  9680D41CFEFE292240253676FF6DD6C242B98EFD  2013-11-17 13:20:34   \n",
       "8  0FC7F06DDDD951AF7009288F8D4B9060925ED107  2014-01-02 17:54:09   \n",
       "9  0646C8373257083080F514A1E7B483BE1020D949  2014-01-04 15:07:28   \n",
       "\n",
       "             DATE_FROM           DATE_UNTIL COMPUTE_EXTRA_BOOKING_FEE  \\\n",
       "0  2014-01-12 13:00:00  2014-01-12 14:30:00                      Nein   \n",
       "1  2014-01-05 14:00:00  2014-01-05 15:30:00                      Nein   \n",
       "2  2014-03-16 18:15:00  2014-03-16 19:30:00                      Nein   \n",
       "3  2014-01-06 17:00:00  2014-01-06 23:45:00                      Nein   \n",
       "4  2014-01-13 17:00:00  2014-01-13 23:45:00                      Nein   \n",
       "5  2014-01-20 17:00:00  2014-01-20 23:45:00                      Nein   \n",
       "6  2014-02-04 08:45:00  2014-02-04 10:15:00                      Nein   \n",
       "7  2014-01-01 14:30:00  2014-01-01 16:00:00                      Nein   \n",
       "8  2014-01-03 09:00:00  2014-01-03 22:30:00                      Nein   \n",
       "9  2014-01-04 16:30:00  2014-01-04 17:30:00                      Nein   \n",
       "\n",
       "  TRAVERSE_USE DISTANCE          ...          RENTAL_ZONE_HAL_SRC  \\\n",
       "0         Nein       14          ...                      Station   \n",
       "1         Nein        0          ...                      Station   \n",
       "2         Nein       17          ...                      Station   \n",
       "3         Nein       16          ...                      Station   \n",
       "4         Nein       16          ...                      Station   \n",
       "5         Nein       15          ...                      Station   \n",
       "6         Nein        5          ...                      Station   \n",
       "7         Nein       16          ...                      Station   \n",
       "8         Nein     1001          ...                      Station   \n",
       "9         Nein        2          ...                      Station   \n",
       "\n",
       "   CITY_RENTAL_ZONE TECHNICAL_INCOME_CHANNEL  TRAVERSE EXTRA_BOOKING_FEE  \\\n",
       "0              Köln                 Internet         0                 0   \n",
       "1              Köln                 Internet         0                 0   \n",
       "2              Köln                 Internet         0                 0   \n",
       "3              Köln                 Internet         0                 0   \n",
       "4              Köln                 Internet         0                 0   \n",
       "5              Köln                 Internet         0                 0   \n",
       "6              Köln                 Internet         0                 0   \n",
       "7              Köln                 Internet         0                 0   \n",
       "8              Köln                 Internet         0                 0   \n",
       "9              Köln                 Internet         0                 0   \n",
       "\n",
       "  VEHICLE_MANUFACTURER_NAME FUEL_TYPE_NAME  \\\n",
       "0                   Citroën         Diesel   \n",
       "1                   Citroën         Diesel   \n",
       "2                   Citroën         Diesel   \n",
       "3                   Citroën         Diesel   \n",
       "4                   Citroën         Diesel   \n",
       "5                   Citroën         Diesel   \n",
       "6                   Citroën         Diesel   \n",
       "7                   Citroën         Diesel   \n",
       "8                   Citroën         Diesel   \n",
       "9                   Citroën         Diesel   \n",
       "\n",
       "                                 CATEGORY  POPULATION         FEDERAL_STATE  \n",
       "0  Sonderklasse (Alfa MiTo / Citroën DS3)     1060582  Nordrhein-Westfalen   \n",
       "1  Sonderklasse (Alfa MiTo / Citroën DS3)     1060582  Nordrhein-Westfalen   \n",
       "2  Sonderklasse (Alfa MiTo / Citroën DS3)     1060582  Nordrhein-Westfalen   \n",
       "3  Sonderklasse (Alfa MiTo / Citroën DS3)     1060582  Nordrhein-Westfalen   \n",
       "4  Sonderklasse (Alfa MiTo / Citroën DS3)     1060582  Nordrhein-Westfalen   \n",
       "5  Sonderklasse (Alfa MiTo / Citroën DS3)     1060582  Nordrhein-Westfalen   \n",
       "6  Sonderklasse (Alfa MiTo / Citroën DS3)     1060582  Nordrhein-Westfalen   \n",
       "7  Sonderklasse (Alfa MiTo / Citroën DS3)     1060582  Nordrhein-Westfalen   \n",
       "8  Sonderklasse (Alfa MiTo / Citroën DS3)     1060582  Nordrhein-Westfalen   \n",
       "9  Sonderklasse (Alfa MiTo / Citroën DS3)     1060582  Nordrhein-Westfalen   \n",
       "\n",
       "[10 rows x 24 columns]"
      ]
     },
     "execution_count": 17,
     "metadata": {},
     "output_type": "execute_result"
    }
   ],
   "source": [
    "data = pd.merge(data_p, population, on ='CITY_RENTAL_ZONE')\n",
    "data.head(10)"
   ]
  },
  {
   "cell_type": "markdown",
   "metadata": {},
   "source": [
    "# Converting to datetime type"
   ]
  },
  {
   "cell_type": "code",
   "execution_count": 18,
   "metadata": {
    "collapsed": true
   },
   "outputs": [],
   "source": [
    "data['DATE_BOOKING'] = pd.to_datetime(data.DATE_BOOKING)\n",
    "data['DATE_FROM'] = pd.to_datetime(data.DATE_FROM)\n",
    "data['DATE_UNTIL'] = pd.to_datetime(data.DATE_UNTIL)"
   ]
  },
  {
   "cell_type": "code",
   "execution_count": 19,
   "metadata": {
    "scrolled": true
   },
   "outputs": [
    {
     "data": {
      "text/plain": [
       "BOOKING_HAL_ID                        int64\n",
       "CATEGORY_HAL_ID                       int64\n",
       "VEHICLE_HAL_ID                        int64\n",
       "CUSTOMER_HAL_ID                      object\n",
       "DATE_BOOKING                 datetime64[ns]\n",
       "DATE_FROM                    datetime64[ns]\n",
       "DATE_UNTIL                   datetime64[ns]\n",
       "COMPUTE_EXTRA_BOOKING_FEE            object\n",
       "TRAVERSE_USE                         object\n",
       "DISTANCE                             object\n",
       "START_RENTAL_ZONE                    object\n",
       "START_RENTAL_ZONE_HAL_ID              int64\n",
       "END_RENTAL_ZONE                      object\n",
       "END_RENTAL_ZONE_HAL_ID                int64\n",
       "RENTAL_ZONE_HAL_SRC                  object\n",
       "CITY_RENTAL_ZONE                     object\n",
       "TECHNICAL_INCOME_CHANNEL             object\n",
       "TRAVERSE                              int64\n",
       "EXTRA_BOOKING_FEE                     int64\n",
       "VEHICLE_MANUFACTURER_NAME            object\n",
       "FUEL_TYPE_NAME                       object\n",
       "CATEGORY                             object\n",
       "POPULATION                            int64\n",
       "FEDERAL_STATE                        object\n",
       "dtype: object"
      ]
     },
     "execution_count": 19,
     "metadata": {},
     "output_type": "execute_result"
    }
   ],
   "source": [
    "data.dtypes"
   ]
  },
  {
   "cell_type": "code",
   "execution_count": 20,
   "metadata": {
    "collapsed": true
   },
   "outputs": [],
   "source": [
    "#for booking date\n",
    "data['BOOKING_DATE']= data.DATE_BOOKING.dt.date\n",
    "data['BOOKING_YEAR']= data.DATE_BOOKING.dt.year\n",
    "data['BOOKING_MONTH']= data.DATE_BOOKING.dt.month\n",
    "data['BOOKING_WDAY']= data.DATE_BOOKING.dt.weekday"
   ]
  },
  {
   "cell_type": "code",
   "execution_count": 21,
   "metadata": {
    "collapsed": true
   },
   "outputs": [],
   "source": [
    "data['BOOKING_QUARTER']= data.DATE_BOOKING.dt.quarter"
   ]
  },
  {
   "cell_type": "code",
   "execution_count": 22,
   "metadata": {
    "collapsed": true
   },
   "outputs": [],
   "source": [
    "data['FROM_MONTH']= data.DATE_FROM.dt.month"
   ]
  },
  {
   "cell_type": "code",
   "execution_count": 23,
   "metadata": {
    "collapsed": true
   },
   "outputs": [],
   "source": [
    "data['UNTIL_MONTH']= data.DATE_UNTIL.dt.month"
   ]
  },
  {
   "cell_type": "code",
   "execution_count": 24,
   "metadata": {
    "collapsed": true
   },
   "outputs": [],
   "source": [
    "data['FROM_WDAY']= data.DATE_FROM.dt.weekday"
   ]
  },
  {
   "cell_type": "code",
   "execution_count": 25,
   "metadata": {
    "collapsed": true
   },
   "outputs": [],
   "source": [
    "data['UNTIL_WDAY']= data.DATE_UNTIL.dt.weekday"
   ]
  },
  {
   "cell_type": "code",
   "execution_count": 26,
   "metadata": {
    "collapsed": true
   },
   "outputs": [],
   "source": [
    "data['BOOKING_DATE'] = pd.to_datetime(data.BOOKING_DATE)"
   ]
  },
  {
   "cell_type": "code",
   "execution_count": 27,
   "metadata": {
    "collapsed": true
   },
   "outputs": [],
   "source": [
    "#data.apply(lambda x: len(x.unique()))"
   ]
  },
  {
   "cell_type": "code",
   "execution_count": 28,
   "metadata": {
    "collapsed": true
   },
   "outputs": [],
   "source": [
    "#data['VEHICLE_MANUFACTURER_NAME'].value_counts()"
   ]
  },
  {
   "cell_type": "code",
   "execution_count": 29,
   "metadata": {
    "collapsed": true
   },
   "outputs": [],
   "source": [
    "#data['VEHICLE_HAL_ID'].value_counts()"
   ]
  },
  {
   "cell_type": "code",
   "execution_count": 30,
   "metadata": {
    "collapsed": true
   },
   "outputs": [],
   "source": [
    "#data.describe()"
   ]
  },
  {
   "cell_type": "code",
   "execution_count": 31,
   "metadata": {
    "collapsed": true,
    "scrolled": true
   },
   "outputs": [],
   "source": [
    "#data.groupby('CUSTOMER_HAL_ID')['BOOKING_HAL_ID'].apply(np.unique)"
   ]
  },
  {
   "cell_type": "code",
   "execution_count": 32,
   "metadata": {
    "collapsed": true
   },
   "outputs": [],
   "source": [
    "#data.pivot_table(columns='CUSTOMER_HAL_ID')"
   ]
  },
  {
   "cell_type": "code",
   "execution_count": 33,
   "metadata": {
    "collapsed": true
   },
   "outputs": [],
   "source": [
    "#data['START_RENTAL_ZONE'].value_counts()"
   ]
  },
  {
   "cell_type": "code",
   "execution_count": 34,
   "metadata": {
    "collapsed": true
   },
   "outputs": [],
   "source": [
    "#db_data['RENTAL_ZONE_HAL_SRC'].value_counts()"
   ]
  },
  {
   "cell_type": "code",
   "execution_count": 35,
   "metadata": {
    "collapsed": true
   },
   "outputs": [],
   "source": [
    "#db_data.applymap(lambda x: not x or pd.isnull(x)).sum()"
   ]
  },
  {
   "cell_type": "code",
   "execution_count": 36,
   "metadata": {
    "collapsed": true
   },
   "outputs": [],
   "source": [
    "#db_data[['RENTAL_ZONE_HAL_SRC', 'DISTANCE']].plot()"
   ]
  },
  {
   "cell_type": "code",
   "execution_count": 37,
   "metadata": {
    "collapsed": true,
    "scrolled": true
   },
   "outputs": [],
   "source": [
    "#data['TECHNICAL_INCOME_CHANNEL'].value_counts(dropna=False)"
   ]
  },
  {
   "cell_type": "code",
   "execution_count": 38,
   "metadata": {
    "collapsed": true
   },
   "outputs": [],
   "source": [
    "#db_data.iloc[:,6:].plot()\n",
    "#plt.show()\n",
    "#db_data.isnull().sum()"
   ]
  },
  {
   "cell_type": "code",
   "execution_count": 39,
   "metadata": {
    "collapsed": true
   },
   "outputs": [],
   "source": [
    "#db_data[db_data.DISTANCE.isnull()].sort_index()\n",
    "#0 and NaN vales?"
   ]
  },
  {
   "cell_type": "code",
   "execution_count": 40,
   "metadata": {
    "collapsed": true,
    "scrolled": true
   },
   "outputs": [],
   "source": [
    "#db_data.loc[db_data['DISTANCE'].isnull()].sum()\n",
    "\n",
    "#data[data['DISTANCE']==0]"
   ]
  },
  {
   "cell_type": "code",
   "execution_count": 41,
   "metadata": {
    "collapsed": true,
    "scrolled": true
   },
   "outputs": [],
   "source": [
    "#db_data[db_data.TECHNICAL_INCOME_CHANNEL.isnull()].sort_index()\n",
    "#what shold we do with this null values"
   ]
  },
  {
   "cell_type": "code",
   "execution_count": 42,
   "metadata": {},
   "outputs": [
    {
     "data": {
      "text/plain": [
       "Timestamp('2017-05-16 05:01:56')"
      ]
     },
     "execution_count": 42,
     "metadata": {},
     "output_type": "execute_result"
    }
   ],
   "source": [
    "data.DATE_BOOKING.max()"
   ]
  },
  {
   "cell_type": "code",
   "execution_count": 43,
   "metadata": {},
   "outputs": [
    {
     "data": {
      "text/plain": [
       "2013       897\n",
       "2014    169872\n",
       "2015    152722\n",
       "2016    127674\n",
       "2017     41448\n",
       "Name: BOOKING_YEAR, dtype: int64"
      ]
     },
     "execution_count": 43,
     "metadata": {},
     "output_type": "execute_result"
    }
   ],
   "source": [
    "data.BOOKING_YEAR.value_counts().sort_index()"
   ]
  },
  {
   "cell_type": "code",
   "execution_count": 44,
   "metadata": {},
   "outputs": [
    {
     "data": {
      "text/plain": [
       "Timestamp('2013-06-05 08:49:33')"
      ]
     },
     "execution_count": 44,
     "metadata": {},
     "output_type": "execute_result"
    }
   ],
   "source": [
    "data.DATE_BOOKING.min()"
   ]
  },
  {
   "cell_type": "code",
   "execution_count": 45,
   "metadata": {},
   "outputs": [
    {
     "data": {
      "text/plain": [
       "Timestamp('2014-01-01 00:30:00')"
      ]
     },
     "execution_count": 45,
     "metadata": {},
     "output_type": "execute_result"
    }
   ],
   "source": [
    "data.DATE_FROM.min()"
   ]
  },
  {
   "cell_type": "code",
   "execution_count": 46,
   "metadata": {
    "collapsed": true
   },
   "outputs": [],
   "source": [
    "#one_tenth = db_data.sample(frac = .1, random_state=np.random.randint(10))"
   ]
  },
  {
   "cell_type": "code",
   "execution_count": 47,
   "metadata": {
    "collapsed": true
   },
   "outputs": [],
   "source": [
    "#one_tenth = one_tenth.sort_values(by=['DATE_BOOKING'], ascending=[True])"
   ]
  },
  {
   "cell_type": "code",
   "execution_count": 48,
   "metadata": {
    "collapsed": true
   },
   "outputs": [],
   "source": [
    "#one_tenth.head()"
   ]
  },
  {
   "cell_type": "code",
   "execution_count": 49,
   "metadata": {},
   "outputs": [
    {
     "data": {
      "text/html": [
       "<div>\n",
       "<style>\n",
       "    .dataframe thead tr:only-child th {\n",
       "        text-align: right;\n",
       "    }\n",
       "\n",
       "    .dataframe thead th {\n",
       "        text-align: left;\n",
       "    }\n",
       "\n",
       "    .dataframe tbody tr th {\n",
       "        vertical-align: top;\n",
       "    }\n",
       "</style>\n",
       "<table border=\"1\" class=\"dataframe\">\n",
       "  <thead>\n",
       "    <tr style=\"text-align: right;\">\n",
       "      <th></th>\n",
       "      <th>BOOKING_HAL_ID</th>\n",
       "      <th>CATEGORY_HAL_ID</th>\n",
       "      <th>VEHICLE_HAL_ID</th>\n",
       "      <th>CUSTOMER_HAL_ID</th>\n",
       "      <th>DATE_BOOKING</th>\n",
       "      <th>DATE_FROM</th>\n",
       "      <th>DATE_UNTIL</th>\n",
       "      <th>COMPUTE_EXTRA_BOOKING_FEE</th>\n",
       "      <th>TRAVERSE_USE</th>\n",
       "      <th>DISTANCE</th>\n",
       "      <th>...</th>\n",
       "      <th>FEDERAL_STATE</th>\n",
       "      <th>BOOKING_DATE</th>\n",
       "      <th>BOOKING_YEAR</th>\n",
       "      <th>BOOKING_MONTH</th>\n",
       "      <th>BOOKING_WDAY</th>\n",
       "      <th>BOOKING_QUARTER</th>\n",
       "      <th>FROM_MONTH</th>\n",
       "      <th>UNTIL_MONTH</th>\n",
       "      <th>FROM_WDAY</th>\n",
       "      <th>UNTIL_WDAY</th>\n",
       "    </tr>\n",
       "  </thead>\n",
       "  <tbody>\n",
       "    <tr>\n",
       "      <th>0</th>\n",
       "      <td>17842196</td>\n",
       "      <td>100012</td>\n",
       "      <td>150359</td>\n",
       "      <td>9680D41CFEFE292240253676FF6DD6C242B98EFD</td>\n",
       "      <td>2013-06-05 08:49:33</td>\n",
       "      <td>2014-01-12 13:00:00</td>\n",
       "      <td>2014-01-12 14:30:00</td>\n",
       "      <td>Nein</td>\n",
       "      <td>Nein</td>\n",
       "      <td>14</td>\n",
       "      <td>...</td>\n",
       "      <td>Nordrhein-Westfalen</td>\n",
       "      <td>2013-06-05</td>\n",
       "      <td>2013</td>\n",
       "      <td>6</td>\n",
       "      <td>2</td>\n",
       "      <td>2</td>\n",
       "      <td>1</td>\n",
       "      <td>1</td>\n",
       "      <td>6</td>\n",
       "      <td>6</td>\n",
       "    </tr>\n",
       "    <tr>\n",
       "      <th>1</th>\n",
       "      <td>19923967</td>\n",
       "      <td>100012</td>\n",
       "      <td>150359</td>\n",
       "      <td>9680D41CFEFE292240253676FF6DD6C242B98EFD</td>\n",
       "      <td>2013-09-15 12:19:14</td>\n",
       "      <td>2014-01-05 14:00:00</td>\n",
       "      <td>2014-01-05 15:30:00</td>\n",
       "      <td>Nein</td>\n",
       "      <td>Nein</td>\n",
       "      <td>0</td>\n",
       "      <td>...</td>\n",
       "      <td>Nordrhein-Westfalen</td>\n",
       "      <td>2013-09-15</td>\n",
       "      <td>2013</td>\n",
       "      <td>9</td>\n",
       "      <td>6</td>\n",
       "      <td>3</td>\n",
       "      <td>1</td>\n",
       "      <td>1</td>\n",
       "      <td>6</td>\n",
       "      <td>6</td>\n",
       "    </tr>\n",
       "    <tr>\n",
       "      <th>2</th>\n",
       "      <td>20453330</td>\n",
       "      <td>100012</td>\n",
       "      <td>150359</td>\n",
       "      <td>9680D41CFEFE292240253676FF6DD6C242B98EFD</td>\n",
       "      <td>2013-10-19 13:25:38</td>\n",
       "      <td>2014-03-16 18:15:00</td>\n",
       "      <td>2014-03-16 19:30:00</td>\n",
       "      <td>Nein</td>\n",
       "      <td>Nein</td>\n",
       "      <td>17</td>\n",
       "      <td>...</td>\n",
       "      <td>Nordrhein-Westfalen</td>\n",
       "      <td>2013-10-19</td>\n",
       "      <td>2013</td>\n",
       "      <td>10</td>\n",
       "      <td>5</td>\n",
       "      <td>4</td>\n",
       "      <td>3</td>\n",
       "      <td>3</td>\n",
       "      <td>6</td>\n",
       "      <td>6</td>\n",
       "    </tr>\n",
       "    <tr>\n",
       "      <th>3</th>\n",
       "      <td>20799835</td>\n",
       "      <td>100012</td>\n",
       "      <td>150359</td>\n",
       "      <td>D564D3A1EA8BF096581556520B8F6582BEB65EFD</td>\n",
       "      <td>2013-11-10 14:10:26</td>\n",
       "      <td>2014-01-06 17:00:00</td>\n",
       "      <td>2014-01-06 23:45:00</td>\n",
       "      <td>Nein</td>\n",
       "      <td>Nein</td>\n",
       "      <td>16</td>\n",
       "      <td>...</td>\n",
       "      <td>Nordrhein-Westfalen</td>\n",
       "      <td>2013-11-10</td>\n",
       "      <td>2013</td>\n",
       "      <td>11</td>\n",
       "      <td>6</td>\n",
       "      <td>4</td>\n",
       "      <td>1</td>\n",
       "      <td>1</td>\n",
       "      <td>0</td>\n",
       "      <td>0</td>\n",
       "    </tr>\n",
       "    <tr>\n",
       "      <th>4</th>\n",
       "      <td>20799864</td>\n",
       "      <td>100012</td>\n",
       "      <td>150359</td>\n",
       "      <td>D564D3A1EA8BF096581556520B8F6582BEB65EFD</td>\n",
       "      <td>2013-11-10 14:13:25</td>\n",
       "      <td>2014-01-13 17:00:00</td>\n",
       "      <td>2014-01-13 23:45:00</td>\n",
       "      <td>Nein</td>\n",
       "      <td>Nein</td>\n",
       "      <td>16</td>\n",
       "      <td>...</td>\n",
       "      <td>Nordrhein-Westfalen</td>\n",
       "      <td>2013-11-10</td>\n",
       "      <td>2013</td>\n",
       "      <td>11</td>\n",
       "      <td>6</td>\n",
       "      <td>4</td>\n",
       "      <td>1</td>\n",
       "      <td>1</td>\n",
       "      <td>0</td>\n",
       "      <td>0</td>\n",
       "    </tr>\n",
       "  </tbody>\n",
       "</table>\n",
       "<p>5 rows × 33 columns</p>\n",
       "</div>"
      ],
      "text/plain": [
       "   BOOKING_HAL_ID  CATEGORY_HAL_ID  VEHICLE_HAL_ID  \\\n",
       "0        17842196           100012          150359   \n",
       "1        19923967           100012          150359   \n",
       "2        20453330           100012          150359   \n",
       "3        20799835           100012          150359   \n",
       "4        20799864           100012          150359   \n",
       "\n",
       "                            CUSTOMER_HAL_ID        DATE_BOOKING  \\\n",
       "0  9680D41CFEFE292240253676FF6DD6C242B98EFD 2013-06-05 08:49:33   \n",
       "1  9680D41CFEFE292240253676FF6DD6C242B98EFD 2013-09-15 12:19:14   \n",
       "2  9680D41CFEFE292240253676FF6DD6C242B98EFD 2013-10-19 13:25:38   \n",
       "3  D564D3A1EA8BF096581556520B8F6582BEB65EFD 2013-11-10 14:10:26   \n",
       "4  D564D3A1EA8BF096581556520B8F6582BEB65EFD 2013-11-10 14:13:25   \n",
       "\n",
       "            DATE_FROM          DATE_UNTIL COMPUTE_EXTRA_BOOKING_FEE  \\\n",
       "0 2014-01-12 13:00:00 2014-01-12 14:30:00                      Nein   \n",
       "1 2014-01-05 14:00:00 2014-01-05 15:30:00                      Nein   \n",
       "2 2014-03-16 18:15:00 2014-03-16 19:30:00                      Nein   \n",
       "3 2014-01-06 17:00:00 2014-01-06 23:45:00                      Nein   \n",
       "4 2014-01-13 17:00:00 2014-01-13 23:45:00                      Nein   \n",
       "\n",
       "  TRAVERSE_USE DISTANCE    ...             FEDERAL_STATE  BOOKING_DATE  \\\n",
       "0         Nein       14    ...      Nordrhein-Westfalen     2013-06-05   \n",
       "1         Nein        0    ...      Nordrhein-Westfalen     2013-09-15   \n",
       "2         Nein       17    ...      Nordrhein-Westfalen     2013-10-19   \n",
       "3         Nein       16    ...      Nordrhein-Westfalen     2013-11-10   \n",
       "4         Nein       16    ...      Nordrhein-Westfalen     2013-11-10   \n",
       "\n",
       "  BOOKING_YEAR  BOOKING_MONTH BOOKING_WDAY BOOKING_QUARTER FROM_MONTH  \\\n",
       "0         2013              6            2               2          1   \n",
       "1         2013              9            6               3          1   \n",
       "2         2013             10            5               4          3   \n",
       "3         2013             11            6               4          1   \n",
       "4         2013             11            6               4          1   \n",
       "\n",
       "   UNTIL_MONTH  FROM_WDAY UNTIL_WDAY  \n",
       "0            1          6          6  \n",
       "1            1          6          6  \n",
       "2            3          6          6  \n",
       "3            1          0          0  \n",
       "4            1          0          0  \n",
       "\n",
       "[5 rows x 33 columns]"
      ]
     },
     "execution_count": 49,
     "metadata": {},
     "output_type": "execute_result"
    }
   ],
   "source": [
    "data.head()"
   ]
  },
  {
   "cell_type": "code",
   "execution_count": 50,
   "metadata": {
    "collapsed": true
   },
   "outputs": [],
   "source": [
    "#data.columns"
   ]
  },
  {
   "cell_type": "code",
   "execution_count": 51,
   "metadata": {},
   "outputs": [
    {
     "data": {
      "text/html": [
       "<div>\n",
       "<style>\n",
       "    .dataframe thead tr:only-child th {\n",
       "        text-align: right;\n",
       "    }\n",
       "\n",
       "    .dataframe thead th {\n",
       "        text-align: left;\n",
       "    }\n",
       "\n",
       "    .dataframe tbody tr th {\n",
       "        vertical-align: top;\n",
       "    }\n",
       "</style>\n",
       "<table border=\"1\" class=\"dataframe\">\n",
       "  <thead>\n",
       "    <tr style=\"text-align: right;\">\n",
       "      <th></th>\n",
       "      <th>BOOKING_HAL_ID</th>\n",
       "      <th>CATEGORY_HAL_ID</th>\n",
       "      <th>VEHICLE_HAL_ID</th>\n",
       "      <th>CUSTOMER_HAL_ID</th>\n",
       "      <th>DATE_BOOKING</th>\n",
       "      <th>DATE_FROM</th>\n",
       "      <th>DATE_UNTIL</th>\n",
       "      <th>COMPUTE_EXTRA_BOOKING_FEE</th>\n",
       "      <th>TRAVERSE_USE</th>\n",
       "      <th>DISTANCE</th>\n",
       "      <th>...</th>\n",
       "      <th>FEDERAL_STATE</th>\n",
       "      <th>BOOKING_DATE</th>\n",
       "      <th>BOOKING_YEAR</th>\n",
       "      <th>BOOKING_MONTH</th>\n",
       "      <th>BOOKING_WDAY</th>\n",
       "      <th>BOOKING_QUARTER</th>\n",
       "      <th>FROM_MONTH</th>\n",
       "      <th>UNTIL_MONTH</th>\n",
       "      <th>FROM_WDAY</th>\n",
       "      <th>UNTIL_WDAY</th>\n",
       "    </tr>\n",
       "  </thead>\n",
       "  <tbody>\n",
       "    <tr>\n",
       "      <th>8</th>\n",
       "      <td>21378191</td>\n",
       "      <td>100012</td>\n",
       "      <td>150359</td>\n",
       "      <td>0FC7F06DDDD951AF7009288F8D4B9060925ED107</td>\n",
       "      <td>2014-01-02 17:54:09</td>\n",
       "      <td>2014-01-03 09:00:00</td>\n",
       "      <td>2014-01-03 22:30:00</td>\n",
       "      <td>Nein</td>\n",
       "      <td>Nein</td>\n",
       "      <td>1001</td>\n",
       "      <td>...</td>\n",
       "      <td>Nordrhein-Westfalen</td>\n",
       "      <td>2014-01-02</td>\n",
       "      <td>2014</td>\n",
       "      <td>1</td>\n",
       "      <td>3</td>\n",
       "      <td>1</td>\n",
       "      <td>1</td>\n",
       "      <td>1</td>\n",
       "      <td>4</td>\n",
       "      <td>4</td>\n",
       "    </tr>\n",
       "    <tr>\n",
       "      <th>9</th>\n",
       "      <td>21394268</td>\n",
       "      <td>100012</td>\n",
       "      <td>150359</td>\n",
       "      <td>0646C8373257083080F514A1E7B483BE1020D949</td>\n",
       "      <td>2014-01-04 15:07:28</td>\n",
       "      <td>2014-01-04 16:30:00</td>\n",
       "      <td>2014-01-04 17:30:00</td>\n",
       "      <td>Nein</td>\n",
       "      <td>Nein</td>\n",
       "      <td>2</td>\n",
       "      <td>...</td>\n",
       "      <td>Nordrhein-Westfalen</td>\n",
       "      <td>2014-01-04</td>\n",
       "      <td>2014</td>\n",
       "      <td>1</td>\n",
       "      <td>5</td>\n",
       "      <td>1</td>\n",
       "      <td>1</td>\n",
       "      <td>1</td>\n",
       "      <td>5</td>\n",
       "      <td>5</td>\n",
       "    </tr>\n",
       "    <tr>\n",
       "      <th>10</th>\n",
       "      <td>21395020</td>\n",
       "      <td>100012</td>\n",
       "      <td>150359</td>\n",
       "      <td>BEF6E7452694AB944BA5E2FADFA107C29D6DC111</td>\n",
       "      <td>2014-01-04 16:23:01</td>\n",
       "      <td>2014-01-04 17:45:00</td>\n",
       "      <td>2014-01-04 18:45:00</td>\n",
       "      <td>Nein</td>\n",
       "      <td>Nein</td>\n",
       "      <td>4</td>\n",
       "      <td>...</td>\n",
       "      <td>Nordrhein-Westfalen</td>\n",
       "      <td>2014-01-04</td>\n",
       "      <td>2014</td>\n",
       "      <td>1</td>\n",
       "      <td>5</td>\n",
       "      <td>1</td>\n",
       "      <td>1</td>\n",
       "      <td>1</td>\n",
       "      <td>5</td>\n",
       "      <td>5</td>\n",
       "    </tr>\n",
       "    <tr>\n",
       "      <th>11</th>\n",
       "      <td>21404210</td>\n",
       "      <td>100012</td>\n",
       "      <td>150359</td>\n",
       "      <td>B38DC9BA3EF8BB7717EA1B1EF91FFECC05D60567</td>\n",
       "      <td>2014-01-05 23:02:27</td>\n",
       "      <td>2014-01-05 23:15:00</td>\n",
       "      <td>2014-01-06 00:30:00</td>\n",
       "      <td>Nein</td>\n",
       "      <td>Nein</td>\n",
       "      <td>33</td>\n",
       "      <td>...</td>\n",
       "      <td>Nordrhein-Westfalen</td>\n",
       "      <td>2014-01-05</td>\n",
       "      <td>2014</td>\n",
       "      <td>1</td>\n",
       "      <td>6</td>\n",
       "      <td>1</td>\n",
       "      <td>1</td>\n",
       "      <td>1</td>\n",
       "      <td>6</td>\n",
       "      <td>0</td>\n",
       "    </tr>\n",
       "    <tr>\n",
       "      <th>12</th>\n",
       "      <td>21406248</td>\n",
       "      <td>100012</td>\n",
       "      <td>150359</td>\n",
       "      <td>31A345F78FE6B781182BEFFCA97779712E585472</td>\n",
       "      <td>2014-01-06 09:45:36</td>\n",
       "      <td>2014-01-07 10:00:00</td>\n",
       "      <td>2014-01-07 14:00:00</td>\n",
       "      <td>Nein</td>\n",
       "      <td>Nein</td>\n",
       "      <td>36</td>\n",
       "      <td>...</td>\n",
       "      <td>Nordrhein-Westfalen</td>\n",
       "      <td>2014-01-06</td>\n",
       "      <td>2014</td>\n",
       "      <td>1</td>\n",
       "      <td>0</td>\n",
       "      <td>1</td>\n",
       "      <td>1</td>\n",
       "      <td>1</td>\n",
       "      <td>1</td>\n",
       "      <td>1</td>\n",
       "    </tr>\n",
       "  </tbody>\n",
       "</table>\n",
       "<p>5 rows × 33 columns</p>\n",
       "</div>"
      ],
      "text/plain": [
       "    BOOKING_HAL_ID  CATEGORY_HAL_ID  VEHICLE_HAL_ID  \\\n",
       "8         21378191           100012          150359   \n",
       "9         21394268           100012          150359   \n",
       "10        21395020           100012          150359   \n",
       "11        21404210           100012          150359   \n",
       "12        21406248           100012          150359   \n",
       "\n",
       "                             CUSTOMER_HAL_ID        DATE_BOOKING  \\\n",
       "8   0FC7F06DDDD951AF7009288F8D4B9060925ED107 2014-01-02 17:54:09   \n",
       "9   0646C8373257083080F514A1E7B483BE1020D949 2014-01-04 15:07:28   \n",
       "10  BEF6E7452694AB944BA5E2FADFA107C29D6DC111 2014-01-04 16:23:01   \n",
       "11  B38DC9BA3EF8BB7717EA1B1EF91FFECC05D60567 2014-01-05 23:02:27   \n",
       "12  31A345F78FE6B781182BEFFCA97779712E585472 2014-01-06 09:45:36   \n",
       "\n",
       "             DATE_FROM          DATE_UNTIL COMPUTE_EXTRA_BOOKING_FEE  \\\n",
       "8  2014-01-03 09:00:00 2014-01-03 22:30:00                      Nein   \n",
       "9  2014-01-04 16:30:00 2014-01-04 17:30:00                      Nein   \n",
       "10 2014-01-04 17:45:00 2014-01-04 18:45:00                      Nein   \n",
       "11 2014-01-05 23:15:00 2014-01-06 00:30:00                      Nein   \n",
       "12 2014-01-07 10:00:00 2014-01-07 14:00:00                      Nein   \n",
       "\n",
       "   TRAVERSE_USE DISTANCE    ...             FEDERAL_STATE  BOOKING_DATE  \\\n",
       "8          Nein     1001    ...      Nordrhein-Westfalen     2014-01-02   \n",
       "9          Nein        2    ...      Nordrhein-Westfalen     2014-01-04   \n",
       "10         Nein        4    ...      Nordrhein-Westfalen     2014-01-04   \n",
       "11         Nein       33    ...      Nordrhein-Westfalen     2014-01-05   \n",
       "12         Nein       36    ...      Nordrhein-Westfalen     2014-01-06   \n",
       "\n",
       "   BOOKING_YEAR  BOOKING_MONTH BOOKING_WDAY BOOKING_QUARTER FROM_MONTH  \\\n",
       "8          2014              1            3               1          1   \n",
       "9          2014              1            5               1          1   \n",
       "10         2014              1            5               1          1   \n",
       "11         2014              1            6               1          1   \n",
       "12         2014              1            0               1          1   \n",
       "\n",
       "    UNTIL_MONTH  FROM_WDAY UNTIL_WDAY  \n",
       "8             1          4          4  \n",
       "9             1          5          5  \n",
       "10            1          5          5  \n",
       "11            1          6          0  \n",
       "12            1          1          1  \n",
       "\n",
       "[5 rows x 33 columns]"
      ]
     },
     "execution_count": 51,
     "metadata": {},
     "output_type": "execute_result"
    }
   ],
   "source": [
    "year = data[(data.BOOKING_YEAR < 2017) & (data.BOOKING_YEAR > 2013)]\n",
    "year.head()"
   ]
  },
  {
   "cell_type": "code",
   "execution_count": 52,
   "metadata": {
    "collapsed": true,
    "scrolled": true
   },
   "outputs": [],
   "source": [
    "#phdays = pd.read_csv(\"publicHolidays.csv\", sep=',', header=0)\n",
    "#phdays.head(9)"
   ]
  },
  {
   "cell_type": "code",
   "execution_count": 53,
   "metadata": {
    "collapsed": true
   },
   "outputs": [],
   "source": [
    "#phdays['BOOKING_DATE'] = pd.to_datetime(data.BOOKING_DATE)\n",
    "#phdays['BOOKING_DATE']= phdays.BOOKING_DATE.dt.date\"\"\""
   ]
  },
  {
   "cell_type": "code",
   "execution_count": 54,
   "metadata": {
    "collapsed": true
   },
   "outputs": [],
   "source": [
    "#data = pd.merge(data, phdays, on ='BOOKING_DATE')\n",
    "#data.head()"
   ]
  },
  {
   "cell_type": "code",
   "execution_count": 55,
   "metadata": {
    "collapsed": true
   },
   "outputs": [],
   "source": [
    "#data.PUBLIC_HOLIDAYS.value_counts()"
   ]
  },
  {
   "cell_type": "code",
   "execution_count": 56,
   "metadata": {
    "collapsed": true,
    "scrolled": true
   },
   "outputs": [],
   "source": [
    "#col = ['PUBLIC_HOLIDAYS']\n",
    "#data.drop(col, inplace=True, axis=1)\n",
    "#data.head()\"\"\""
   ]
  },
  {
   "cell_type": "code",
   "execution_count": null,
   "metadata": {
    "collapsed": true
   },
   "outputs": [],
   "source": []
  }
 ],
 "metadata": {
  "kernelspec": {
   "display_name": "Python 3",
   "language": "python",
   "name": "python3"
  },
  "language_info": {
   "codemirror_mode": {
    "name": "ipython",
    "version": 3
   },
   "file_extension": ".py",
   "mimetype": "text/x-python",
   "name": "python",
   "nbconvert_exporter": "python",
   "pygments_lexer": "ipython3",
   "version": "3.6.1"
  }
 },
 "nbformat": 4,
 "nbformat_minor": 2
}
