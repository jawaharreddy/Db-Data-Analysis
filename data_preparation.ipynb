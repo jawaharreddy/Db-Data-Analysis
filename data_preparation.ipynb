{
 "cells": [
  {
   "cell_type": "markdown",
   "metadata": {},
   "source": [
    "# Libraries"
   ]
  },
  {
   "cell_type": "code",
   "execution_count": 2,
   "metadata": {},
   "outputs": [
    {
     "data": {
      "text/html": [
       "<script>requirejs.config({paths: { 'plotly': ['https://cdn.plot.ly/plotly-latest.min']},});if(!window.Plotly) {{require(['plotly'],function(plotly) {window.Plotly=plotly;});}}</script>"
      ],
      "text/vnd.plotly.v1+html": [
       "<script>requirejs.config({paths: { 'plotly': ['https://cdn.plot.ly/plotly-latest.min']},});if(!window.Plotly) {{require(['plotly'],function(plotly) {window.Plotly=plotly;});}}</script>"
      ]
     },
     "metadata": {},
     "output_type": "display_data"
    },
    {
     "data": {
      "text/html": [
       "<script>requirejs.config({paths: { 'plotly': ['https://cdn.plot.ly/plotly-latest.min']},});if(!window.Plotly) {{require(['plotly'],function(plotly) {window.Plotly=plotly;});}}</script>"
      ],
      "text/vnd.plotly.v1+html": [
       "<script>requirejs.config({paths: { 'plotly': ['https://cdn.plot.ly/plotly-latest.min']},});if(!window.Plotly) {{require(['plotly'],function(plotly) {window.Plotly=plotly;});}}</script>"
      ]
     },
     "metadata": {},
     "output_type": "display_data"
    }
   ],
   "source": [
    "import numpy as np\n",
    "import pandas as pd\n",
    "import matplotlib.pyplot as plt\n",
    "%matplotlib inline\n",
    "import seaborn as sns\n",
    "import plotly.offline as py\n",
    "import plotly.graph_objs as go\n",
    "py.init_notebook_mode(connected=True)\n",
    "import glob\n",
    "import os\n",
    "\n",
    "py.init_notebook_mode(connected=True)"
   ]
  },
  {
   "cell_type": "code",
   "execution_count": 3,
   "metadata": {
    "collapsed": true
   },
   "outputs": [],
   "source": [
    "plt.style.use('seaborn')\n",
    "#sns.set_style(\"whitegrid\", {'axes.grid' : False})\n",
    "#set_matplotlib_formats('pdf', 'png')\n",
    "plt.rcParams['savefig.dpi'] = 80\n",
    "plt.rcParams['figure.autolayout'] = False\n",
    "plt.rcParams['figure.figsize'] = (16, 8)\n",
    "plt.rcParams['axes.labelsize'] = 16\n",
    "plt.rcParams['axes.labelweight'] = 'bold'\n",
    "plt.rcParams['axes.titlesize'] = 20\n",
    "plt.rcParams['axes.titleweight'] = 'bold'\n",
    "plt.rcParams['font.size'] = 16\n",
    "plt.rcParams['lines.linewidth'] = 2.0\n",
    "plt.rcParams['lines.markersize'] = 8\n",
    "plt.rcParams['legend.fontsize'] = 14\n",
    "plt.rcParams['text.usetex'] = False\n",
    "#plt.rcParams['font.family'] = \"serif\"\n",
    "plt.rcParams['font.serif'] = \"cm\"\n",
    "plt.rcParams['text.latex.preamble'] = b\"\\usepackage{subdepth}, \\usepackage{type1cm}\""
   ]
  },
  {
   "cell_type": "code",
   "execution_count": 4,
   "metadata": {
    "collapsed": true
   },
   "outputs": [],
   "source": [
    "# basic functionalities\n",
    "import re\n",
    "import os\n",
    "import sys\n",
    "import datetime\n",
    "import itertools\n",
    "import math \n",
    "import warnings"
   ]
  },
  {
   "cell_type": "markdown",
   "metadata": {},
   "source": [
    "# DataSet"
   ]
  },
  {
   "cell_type": "code",
   "execution_count": 5,
   "metadata": {
    "scrolled": true
   },
   "outputs": [
    {
     "data": {
      "text/html": [
       "<div>\n",
       "<style>\n",
       "    .dataframe thead tr:only-child th {\n",
       "        text-align: right;\n",
       "    }\n",
       "\n",
       "    .dataframe thead th {\n",
       "        text-align: left;\n",
       "    }\n",
       "\n",
       "    .dataframe tbody tr th {\n",
       "        vertical-align: top;\n",
       "    }\n",
       "</style>\n",
       "<table border=\"1\" class=\"dataframe\">\n",
       "  <thead>\n",
       "    <tr style=\"text-align: right;\">\n",
       "      <th></th>\n",
       "      <th>BOOKING_HAL_ID</th>\n",
       "      <th>CATEGORY_HAL_ID</th>\n",
       "      <th>VEHICLE_HAL_ID</th>\n",
       "      <th>CUSTOMER_HAL_ID</th>\n",
       "      <th>DATE_BOOKING</th>\n",
       "      <th>DATE_FROM</th>\n",
       "      <th>DATE_UNTIL</th>\n",
       "      <th>COMPUTE_EXTRA_BOOKING_FEE</th>\n",
       "      <th>TRAVERSE_USE</th>\n",
       "      <th>DISTANCE</th>\n",
       "      <th>START_RENTAL_ZONE</th>\n",
       "      <th>START_RENTAL_ZONE_HAL_ID</th>\n",
       "      <th>END_RENTAL_ZONE</th>\n",
       "      <th>END_RENTAL_ZONE_HAL_ID</th>\n",
       "      <th>RENTAL_ZONE_HAL_SRC</th>\n",
       "      <th>CITY_RENTAL_ZONE</th>\n",
       "      <th>TECHNICAL_INCOME_CHANNEL</th>\n",
       "    </tr>\n",
       "  </thead>\n",
       "  <tbody>\n",
       "    <tr>\n",
       "      <th>548069</th>\n",
       "      <td>46385327</td>\n",
       "      <td>100001</td>\n",
       "      <td>149218</td>\n",
       "      <td>B45F2CFD95C5887698AD87B6596102E24DCCE243</td>\n",
       "      <td>2017-05-16 07:15:07</td>\n",
       "      <td>2017-05-16 07:15:00</td>\n",
       "      <td>2017-05-16 08:15:00</td>\n",
       "      <td>Nein</td>\n",
       "      <td>Ja</td>\n",
       "      <td>NaN</td>\n",
       "      <td>Sredzkistraße</td>\n",
       "      <td>402667</td>\n",
       "      <td>Sredzkistraße</td>\n",
       "      <td>402667</td>\n",
       "      <td>Station</td>\n",
       "      <td>Berlin</td>\n",
       "      <td>Flinkster iPhone</td>\n",
       "    </tr>\n",
       "    <tr>\n",
       "      <th>548070</th>\n",
       "      <td>46385351</td>\n",
       "      <td>100001</td>\n",
       "      <td>174116</td>\n",
       "      <td>954FB74EF255E4089D3D7DA3FE6234DE781BFDD3</td>\n",
       "      <td>2017-05-16 07:16:29</td>\n",
       "      <td>2017-05-16 08:30:00</td>\n",
       "      <td>2017-05-16 12:30:00</td>\n",
       "      <td>Nein</td>\n",
       "      <td>Nein</td>\n",
       "      <td>NaN</td>\n",
       "      <td>Bf Köln Messe/Deutz</td>\n",
       "      <td>400755</td>\n",
       "      <td>Bf Köln Messe/Deutz</td>\n",
       "      <td>400755</td>\n",
       "      <td>Station</td>\n",
       "      <td>Köln</td>\n",
       "      <td>Internet</td>\n",
       "    </tr>\n",
       "    <tr>\n",
       "      <th>548071</th>\n",
       "      <td>46385778</td>\n",
       "      <td>100001</td>\n",
       "      <td>173552</td>\n",
       "      <td>A986BBFA0F81DD3D2EB02A97A30A97CF111BD2C1</td>\n",
       "      <td>2017-05-16 07:37:19</td>\n",
       "      <td>2017-05-16 08:45:00</td>\n",
       "      <td>2017-05-18 09:45:00</td>\n",
       "      <td>Nein</td>\n",
       "      <td>Nein</td>\n",
       "      <td>NaN</td>\n",
       "      <td>Hbf Saarbrücken</td>\n",
       "      <td>400280</td>\n",
       "      <td>Hbf Saarbrücken</td>\n",
       "      <td>400280</td>\n",
       "      <td>Station</td>\n",
       "      <td>Saarbrücken</td>\n",
       "      <td>Internet</td>\n",
       "    </tr>\n",
       "    <tr>\n",
       "      <th>548072</th>\n",
       "      <td>46385814</td>\n",
       "      <td>100012</td>\n",
       "      <td>169106</td>\n",
       "      <td>1127C45D5E5C398FE0BCAF07D6C6694C2C9E0B0B</td>\n",
       "      <td>2017-05-16 07:39:22</td>\n",
       "      <td>2017-05-16 07:45:00</td>\n",
       "      <td>2017-05-16 10:45:00</td>\n",
       "      <td>Nein</td>\n",
       "      <td>Nein</td>\n",
       "      <td>NaN</td>\n",
       "      <td>Hbf Gelsenkirchen</td>\n",
       "      <td>406277</td>\n",
       "      <td>Hbf Gelsenkirchen</td>\n",
       "      <td>406277</td>\n",
       "      <td>Station</td>\n",
       "      <td>Gelsenkirchen</td>\n",
       "      <td>Internet</td>\n",
       "    </tr>\n",
       "  </tbody>\n",
       "</table>\n",
       "</div>"
      ],
      "text/plain": [
       "        BOOKING_HAL_ID  CATEGORY_HAL_ID  VEHICLE_HAL_ID  \\\n",
       "548069        46385327           100001          149218   \n",
       "548070        46385351           100001          174116   \n",
       "548071        46385778           100001          173552   \n",
       "548072        46385814           100012          169106   \n",
       "\n",
       "                                 CUSTOMER_HAL_ID         DATE_BOOKING  \\\n",
       "548069  B45F2CFD95C5887698AD87B6596102E24DCCE243  2017-05-16 07:15:07   \n",
       "548070  954FB74EF255E4089D3D7DA3FE6234DE781BFDD3  2017-05-16 07:16:29   \n",
       "548071  A986BBFA0F81DD3D2EB02A97A30A97CF111BD2C1  2017-05-16 07:37:19   \n",
       "548072  1127C45D5E5C398FE0BCAF07D6C6694C2C9E0B0B  2017-05-16 07:39:22   \n",
       "\n",
       "                  DATE_FROM           DATE_UNTIL COMPUTE_EXTRA_BOOKING_FEE  \\\n",
       "548069  2017-05-16 07:15:00  2017-05-16 08:15:00                      Nein   \n",
       "548070  2017-05-16 08:30:00  2017-05-16 12:30:00                      Nein   \n",
       "548071  2017-05-16 08:45:00  2017-05-18 09:45:00                      Nein   \n",
       "548072  2017-05-16 07:45:00  2017-05-16 10:45:00                      Nein   \n",
       "\n",
       "       TRAVERSE_USE  DISTANCE    START_RENTAL_ZONE  START_RENTAL_ZONE_HAL_ID  \\\n",
       "548069           Ja       NaN        Sredzkistraße                    402667   \n",
       "548070         Nein       NaN  Bf Köln Messe/Deutz                    400755   \n",
       "548071         Nein       NaN      Hbf Saarbrücken                    400280   \n",
       "548072         Nein       NaN    Hbf Gelsenkirchen                    406277   \n",
       "\n",
       "            END_RENTAL_ZONE  END_RENTAL_ZONE_HAL_ID RENTAL_ZONE_HAL_SRC  \\\n",
       "548069        Sredzkistraße                  402667             Station   \n",
       "548070  Bf Köln Messe/Deutz                  400755             Station   \n",
       "548071      Hbf Saarbrücken                  400280             Station   \n",
       "548072    Hbf Gelsenkirchen                  406277             Station   \n",
       "\n",
       "       CITY_RENTAL_ZONE TECHNICAL_INCOME_CHANNEL  \n",
       "548069           Berlin         Flinkster iPhone  \n",
       "548070             Köln                 Internet  \n",
       "548071      Saarbrücken                 Internet  \n",
       "548072    Gelsenkirchen                 Internet  "
      ]
     },
     "execution_count": 5,
     "metadata": {},
     "output_type": "execute_result"
    }
   ],
   "source": [
    "db_data = pd.read_csv(\"OPENDATA_BOOKING_CARSHARING.csv\", sep=';', header=0)\n",
    "db_data[548069:]"
   ]
  },
  {
   "cell_type": "code",
   "execution_count": 6,
   "metadata": {
    "collapsed": true
   },
   "outputs": [],
   "source": [
    "db_data['TRAVERSE'] = db_data['TRAVERSE_USE'].map({'Nein' : 0 , 'Ja':1}).astype(int)\n",
    "db_data['EXTRA_BOOKING_FEE']= db_data['COMPUTE_EXTRA_BOOKING_FEE'].map({'Nein': 0 , 'Ja': 1}).astype(int)\n",
    "#db_data['RENTAL_ZONE_HAL_SRC']= db_data['RENTAL_ZONE_HAL_SRC'].map({'Station': 1}).astype(int)\n",
    "#db_data.head()"
   ]
  },
  {
   "cell_type": "code",
   "execution_count": 7,
   "metadata": {
    "collapsed": true
   },
   "outputs": [],
   "source": [
    "db_data['TECHNICAL_INCOME_CHANNEL'].fillna('UNKNOWN', inplace=True)"
   ]
  },
  {
   "cell_type": "code",
   "execution_count": 8,
   "metadata": {
    "collapsed": true,
    "scrolled": true
   },
   "outputs": [],
   "source": [
    "#db_data = db_data[db_data.TECHNICAL_INCOME_CHANNEL != 'UNKNOWN']"
   ]
  },
  {
   "cell_type": "code",
   "execution_count": 9,
   "metadata": {
    "collapsed": true
   },
   "outputs": [],
   "source": [
    "db_data['DISTANCE'].fillna('UNKNOWN', inplace=True)"
   ]
  },
  {
   "cell_type": "code",
   "execution_count": 10,
   "metadata": {
    "collapsed": true
   },
   "outputs": [],
   "source": [
    "#db_data = db_data[db_data.DISTANCE != 'UNKNOWN']"
   ]
  },
  {
   "cell_type": "code",
   "execution_count": 11,
   "metadata": {
    "collapsed": true
   },
   "outputs": [],
   "source": [
    "#db_data.isnull().sum()"
   ]
  },
  {
   "cell_type": "code",
   "execution_count": 12,
   "metadata": {
    "collapsed": true,
    "scrolled": false
   },
   "outputs": [],
   "source": [
    "#db_data.apply(lambda x: len(x.unique()))"
   ]
  },
  {
   "cell_type": "code",
   "execution_count": 13,
   "metadata": {
    "collapsed": true
   },
   "outputs": [],
   "source": [
    "cartype = pd.read_csv(\"OPENDATA_VEHICLE_CARSHARING.csv\", sep=';', header=0)\n",
    "columns = ['VEHICLE_MODEL_TYPE','VEHICLE_MODEL_NAME','VEHICLE_TYPE_NAME','VIN','REGISTRATION_PLATE','SERIAL_NUMBER','KW','OWNERSHIP_TYPE','CAPACITY_AMOUNT', 'ACCESS_CONTROL_COMPONENT_TYPE', 'COMPANY', 'COMPANY_GROUP'] \n",
    "cartype.drop(columns, inplace=True, axis=1)\n",
    "#cartype.head()\n",
    "carmerge = pd.merge(db_data, cartype, on ='VEHICLE_HAL_ID')\n",
    "#carmerge.head()"
   ]
  },
  {
   "cell_type": "code",
   "execution_count": 14,
   "metadata": {
    "collapsed": true
   },
   "outputs": [],
   "source": [
    "#carmerge.apply(lambda x: len(x.unique()))"
   ]
  },
  {
   "cell_type": "code",
   "execution_count": 15,
   "metadata": {},
   "outputs": [
    {
     "data": {
      "text/html": [
       "<div>\n",
       "<style>\n",
       "    .dataframe thead tr:only-child th {\n",
       "        text-align: right;\n",
       "    }\n",
       "\n",
       "    .dataframe thead th {\n",
       "        text-align: left;\n",
       "    }\n",
       "\n",
       "    .dataframe tbody tr th {\n",
       "        vertical-align: top;\n",
       "    }\n",
       "</style>\n",
       "<table border=\"1\" class=\"dataframe\">\n",
       "  <thead>\n",
       "    <tr style=\"text-align: right;\">\n",
       "      <th></th>\n",
       "      <th>CATEGORY_HAL_ID</th>\n",
       "      <th>CATEGORY</th>\n",
       "    </tr>\n",
       "  </thead>\n",
       "  <tbody>\n",
       "    <tr>\n",
       "      <th>0</th>\n",
       "      <td>100000</td>\n",
       "      <td>Werbeklasse (mit Beklebung)</td>\n",
       "    </tr>\n",
       "    <tr>\n",
       "      <th>1</th>\n",
       "      <td>100001</td>\n",
       "      <td>Kleinklasse (teilweise ohne Navi)</td>\n",
       "    </tr>\n",
       "    <tr>\n",
       "      <th>2</th>\n",
       "      <td>100002</td>\n",
       "      <td>Mini (teilweise ohne Navi)</td>\n",
       "    </tr>\n",
       "    <tr>\n",
       "      <th>3</th>\n",
       "      <td>100003</td>\n",
       "      <td>Kompaktklasse</td>\n",
       "    </tr>\n",
       "    <tr>\n",
       "      <th>4</th>\n",
       "      <td>100004</td>\n",
       "      <td>Zubehör</td>\n",
       "    </tr>\n",
       "  </tbody>\n",
       "</table>\n",
       "</div>"
      ],
      "text/plain": [
       "   CATEGORY_HAL_ID                           CATEGORY\n",
       "0           100000        Werbeklasse (mit Beklebung)\n",
       "1           100001  Kleinklasse (teilweise ohne Navi)\n",
       "2           100002         Mini (teilweise ohne Navi)\n",
       "3           100003                      Kompaktklasse\n",
       "4           100004                            Zubehör"
      ]
     },
     "execution_count": 15,
     "metadata": {},
     "output_type": "execute_result"
    }
   ],
   "source": [
    "catgtype = pd.read_csv(\"OPENDATA_CATEGORY_CARSHARING.csv\", sep=';', header=0)\n",
    "columns = ['COMPANY','COMPANY_GROUP']\n",
    "catgtype.drop(columns, inplace=True, axis=1)\n",
    "catgtype = catgtype.rename(columns={'HAL_ID':'CATEGORY_HAL_ID'})\n",
    "data_p = pd.merge(carmerge, catgtype, on ='CATEGORY_HAL_ID')\n",
    "catgtype.head()"
   ]
  },
  {
   "cell_type": "code",
   "execution_count": 16,
   "metadata": {
    "collapsed": true
   },
   "outputs": [],
   "source": [
    "#data_p.apply(lambda x: len(x.unique()))"
   ]
  },
  {
   "cell_type": "code",
   "execution_count": 17,
   "metadata": {
    "collapsed": true
   },
   "outputs": [],
   "source": [
    "#data_p.isnull().sum()"
   ]
  },
  {
   "cell_type": "code",
   "execution_count": 18,
   "metadata": {
    "collapsed": true,
    "scrolled": true
   },
   "outputs": [],
   "source": [
    "population = pd.read_csv(\"Germany_population_by_city_2015.csv\", sep=',', header=0)\n",
    "#population"
   ]
  },
  {
   "cell_type": "code",
   "execution_count": 19,
   "metadata": {},
   "outputs": [
    {
     "data": {
      "text/plain": [
       "CITY_RENTAL_ZONE    85\n",
       "POPULATION          85\n",
       "FEDERAL_STATE       15\n",
       "dtype: int64"
      ]
     },
     "execution_count": 19,
     "metadata": {},
     "output_type": "execute_result"
    }
   ],
   "source": [
    "population.apply(lambda x: len(x.unique()))"
   ]
  },
  {
   "cell_type": "code",
   "execution_count": 20,
   "metadata": {
    "scrolled": true
   },
   "outputs": [
    {
     "data": {
      "text/html": [
       "<div>\n",
       "<style>\n",
       "    .dataframe thead tr:only-child th {\n",
       "        text-align: right;\n",
       "    }\n",
       "\n",
       "    .dataframe thead th {\n",
       "        text-align: left;\n",
       "    }\n",
       "\n",
       "    .dataframe tbody tr th {\n",
       "        vertical-align: top;\n",
       "    }\n",
       "</style>\n",
       "<table border=\"1\" class=\"dataframe\">\n",
       "  <thead>\n",
       "    <tr style=\"text-align: right;\">\n",
       "      <th></th>\n",
       "      <th>BOOKING_HAL_ID</th>\n",
       "      <th>CATEGORY_HAL_ID</th>\n",
       "      <th>VEHICLE_HAL_ID</th>\n",
       "      <th>CUSTOMER_HAL_ID</th>\n",
       "      <th>DATE_BOOKING</th>\n",
       "      <th>DATE_FROM</th>\n",
       "      <th>DATE_UNTIL</th>\n",
       "      <th>COMPUTE_EXTRA_BOOKING_FEE</th>\n",
       "      <th>TRAVERSE_USE</th>\n",
       "      <th>DISTANCE</th>\n",
       "      <th>...</th>\n",
       "      <th>RENTAL_ZONE_HAL_SRC</th>\n",
       "      <th>CITY_RENTAL_ZONE</th>\n",
       "      <th>TECHNICAL_INCOME_CHANNEL</th>\n",
       "      <th>TRAVERSE</th>\n",
       "      <th>EXTRA_BOOKING_FEE</th>\n",
       "      <th>VEHICLE_MANUFACTURER_NAME</th>\n",
       "      <th>FUEL_TYPE_NAME</th>\n",
       "      <th>CATEGORY</th>\n",
       "      <th>POPULATION</th>\n",
       "      <th>FEDERAL_STATE</th>\n",
       "    </tr>\n",
       "  </thead>\n",
       "  <tbody>\n",
       "    <tr>\n",
       "      <th>0</th>\n",
       "      <td>17842196</td>\n",
       "      <td>100012</td>\n",
       "      <td>150359</td>\n",
       "      <td>9680D41CFEFE292240253676FF6DD6C242B98EFD</td>\n",
       "      <td>2013-06-05 08:49:33</td>\n",
       "      <td>2014-01-12 13:00:00</td>\n",
       "      <td>2014-01-12 14:30:00</td>\n",
       "      <td>Nein</td>\n",
       "      <td>Nein</td>\n",
       "      <td>14</td>\n",
       "      <td>...</td>\n",
       "      <td>Station</td>\n",
       "      <td>Köln</td>\n",
       "      <td>Internet</td>\n",
       "      <td>0</td>\n",
       "      <td>0</td>\n",
       "      <td>Citroën</td>\n",
       "      <td>Diesel</td>\n",
       "      <td>Sonderklasse (Alfa MiTo / Citroën DS3)</td>\n",
       "      <td>1060582</td>\n",
       "      <td>Nordrhein-Westfalen</td>\n",
       "    </tr>\n",
       "    <tr>\n",
       "      <th>1</th>\n",
       "      <td>19923967</td>\n",
       "      <td>100012</td>\n",
       "      <td>150359</td>\n",
       "      <td>9680D41CFEFE292240253676FF6DD6C242B98EFD</td>\n",
       "      <td>2013-09-15 12:19:14</td>\n",
       "      <td>2014-01-05 14:00:00</td>\n",
       "      <td>2014-01-05 15:30:00</td>\n",
       "      <td>Nein</td>\n",
       "      <td>Nein</td>\n",
       "      <td>0</td>\n",
       "      <td>...</td>\n",
       "      <td>Station</td>\n",
       "      <td>Köln</td>\n",
       "      <td>Internet</td>\n",
       "      <td>0</td>\n",
       "      <td>0</td>\n",
       "      <td>Citroën</td>\n",
       "      <td>Diesel</td>\n",
       "      <td>Sonderklasse (Alfa MiTo / Citroën DS3)</td>\n",
       "      <td>1060582</td>\n",
       "      <td>Nordrhein-Westfalen</td>\n",
       "    </tr>\n",
       "    <tr>\n",
       "      <th>2</th>\n",
       "      <td>20453330</td>\n",
       "      <td>100012</td>\n",
       "      <td>150359</td>\n",
       "      <td>9680D41CFEFE292240253676FF6DD6C242B98EFD</td>\n",
       "      <td>2013-10-19 13:25:38</td>\n",
       "      <td>2014-03-16 18:15:00</td>\n",
       "      <td>2014-03-16 19:30:00</td>\n",
       "      <td>Nein</td>\n",
       "      <td>Nein</td>\n",
       "      <td>17</td>\n",
       "      <td>...</td>\n",
       "      <td>Station</td>\n",
       "      <td>Köln</td>\n",
       "      <td>Internet</td>\n",
       "      <td>0</td>\n",
       "      <td>0</td>\n",
       "      <td>Citroën</td>\n",
       "      <td>Diesel</td>\n",
       "      <td>Sonderklasse (Alfa MiTo / Citroën DS3)</td>\n",
       "      <td>1060582</td>\n",
       "      <td>Nordrhein-Westfalen</td>\n",
       "    </tr>\n",
       "    <tr>\n",
       "      <th>3</th>\n",
       "      <td>20799835</td>\n",
       "      <td>100012</td>\n",
       "      <td>150359</td>\n",
       "      <td>D564D3A1EA8BF096581556520B8F6582BEB65EFD</td>\n",
       "      <td>2013-11-10 14:10:26</td>\n",
       "      <td>2014-01-06 17:00:00</td>\n",
       "      <td>2014-01-06 23:45:00</td>\n",
       "      <td>Nein</td>\n",
       "      <td>Nein</td>\n",
       "      <td>16</td>\n",
       "      <td>...</td>\n",
       "      <td>Station</td>\n",
       "      <td>Köln</td>\n",
       "      <td>Internet</td>\n",
       "      <td>0</td>\n",
       "      <td>0</td>\n",
       "      <td>Citroën</td>\n",
       "      <td>Diesel</td>\n",
       "      <td>Sonderklasse (Alfa MiTo / Citroën DS3)</td>\n",
       "      <td>1060582</td>\n",
       "      <td>Nordrhein-Westfalen</td>\n",
       "    </tr>\n",
       "    <tr>\n",
       "      <th>4</th>\n",
       "      <td>20799864</td>\n",
       "      <td>100012</td>\n",
       "      <td>150359</td>\n",
       "      <td>D564D3A1EA8BF096581556520B8F6582BEB65EFD</td>\n",
       "      <td>2013-11-10 14:13:25</td>\n",
       "      <td>2014-01-13 17:00:00</td>\n",
       "      <td>2014-01-13 23:45:00</td>\n",
       "      <td>Nein</td>\n",
       "      <td>Nein</td>\n",
       "      <td>16</td>\n",
       "      <td>...</td>\n",
       "      <td>Station</td>\n",
       "      <td>Köln</td>\n",
       "      <td>Internet</td>\n",
       "      <td>0</td>\n",
       "      <td>0</td>\n",
       "      <td>Citroën</td>\n",
       "      <td>Diesel</td>\n",
       "      <td>Sonderklasse (Alfa MiTo / Citroën DS3)</td>\n",
       "      <td>1060582</td>\n",
       "      <td>Nordrhein-Westfalen</td>\n",
       "    </tr>\n",
       "    <tr>\n",
       "      <th>5</th>\n",
       "      <td>20799880</td>\n",
       "      <td>100012</td>\n",
       "      <td>150359</td>\n",
       "      <td>D564D3A1EA8BF096581556520B8F6582BEB65EFD</td>\n",
       "      <td>2013-11-10 14:14:54</td>\n",
       "      <td>2014-01-20 17:00:00</td>\n",
       "      <td>2014-01-20 23:45:00</td>\n",
       "      <td>Nein</td>\n",
       "      <td>Nein</td>\n",
       "      <td>15</td>\n",
       "      <td>...</td>\n",
       "      <td>Station</td>\n",
       "      <td>Köln</td>\n",
       "      <td>Internet</td>\n",
       "      <td>0</td>\n",
       "      <td>0</td>\n",
       "      <td>Citroën</td>\n",
       "      <td>Diesel</td>\n",
       "      <td>Sonderklasse (Alfa MiTo / Citroën DS3)</td>\n",
       "      <td>1060582</td>\n",
       "      <td>Nordrhein-Westfalen</td>\n",
       "    </tr>\n",
       "    <tr>\n",
       "      <th>6</th>\n",
       "      <td>20896382</td>\n",
       "      <td>100012</td>\n",
       "      <td>150359</td>\n",
       "      <td>9680D41CFEFE292240253676FF6DD6C242B98EFD</td>\n",
       "      <td>2013-11-17 12:42:57</td>\n",
       "      <td>2014-02-04 08:45:00</td>\n",
       "      <td>2014-02-04 10:15:00</td>\n",
       "      <td>Nein</td>\n",
       "      <td>Nein</td>\n",
       "      <td>5</td>\n",
       "      <td>...</td>\n",
       "      <td>Station</td>\n",
       "      <td>Köln</td>\n",
       "      <td>Internet</td>\n",
       "      <td>0</td>\n",
       "      <td>0</td>\n",
       "      <td>Citroën</td>\n",
       "      <td>Diesel</td>\n",
       "      <td>Sonderklasse (Alfa MiTo / Citroën DS3)</td>\n",
       "      <td>1060582</td>\n",
       "      <td>Nordrhein-Westfalen</td>\n",
       "    </tr>\n",
       "    <tr>\n",
       "      <th>7</th>\n",
       "      <td>20896766</td>\n",
       "      <td>100012</td>\n",
       "      <td>150359</td>\n",
       "      <td>9680D41CFEFE292240253676FF6DD6C242B98EFD</td>\n",
       "      <td>2013-11-17 13:20:34</td>\n",
       "      <td>2014-01-01 14:30:00</td>\n",
       "      <td>2014-01-01 16:00:00</td>\n",
       "      <td>Nein</td>\n",
       "      <td>Nein</td>\n",
       "      <td>16</td>\n",
       "      <td>...</td>\n",
       "      <td>Station</td>\n",
       "      <td>Köln</td>\n",
       "      <td>Internet</td>\n",
       "      <td>0</td>\n",
       "      <td>0</td>\n",
       "      <td>Citroën</td>\n",
       "      <td>Diesel</td>\n",
       "      <td>Sonderklasse (Alfa MiTo / Citroën DS3)</td>\n",
       "      <td>1060582</td>\n",
       "      <td>Nordrhein-Westfalen</td>\n",
       "    </tr>\n",
       "    <tr>\n",
       "      <th>8</th>\n",
       "      <td>21378191</td>\n",
       "      <td>100012</td>\n",
       "      <td>150359</td>\n",
       "      <td>0FC7F06DDDD951AF7009288F8D4B9060925ED107</td>\n",
       "      <td>2014-01-02 17:54:09</td>\n",
       "      <td>2014-01-03 09:00:00</td>\n",
       "      <td>2014-01-03 22:30:00</td>\n",
       "      <td>Nein</td>\n",
       "      <td>Nein</td>\n",
       "      <td>1001</td>\n",
       "      <td>...</td>\n",
       "      <td>Station</td>\n",
       "      <td>Köln</td>\n",
       "      <td>Internet</td>\n",
       "      <td>0</td>\n",
       "      <td>0</td>\n",
       "      <td>Citroën</td>\n",
       "      <td>Diesel</td>\n",
       "      <td>Sonderklasse (Alfa MiTo / Citroën DS3)</td>\n",
       "      <td>1060582</td>\n",
       "      <td>Nordrhein-Westfalen</td>\n",
       "    </tr>\n",
       "    <tr>\n",
       "      <th>9</th>\n",
       "      <td>21394268</td>\n",
       "      <td>100012</td>\n",
       "      <td>150359</td>\n",
       "      <td>0646C8373257083080F514A1E7B483BE1020D949</td>\n",
       "      <td>2014-01-04 15:07:28</td>\n",
       "      <td>2014-01-04 16:30:00</td>\n",
       "      <td>2014-01-04 17:30:00</td>\n",
       "      <td>Nein</td>\n",
       "      <td>Nein</td>\n",
       "      <td>2</td>\n",
       "      <td>...</td>\n",
       "      <td>Station</td>\n",
       "      <td>Köln</td>\n",
       "      <td>Internet</td>\n",
       "      <td>0</td>\n",
       "      <td>0</td>\n",
       "      <td>Citroën</td>\n",
       "      <td>Diesel</td>\n",
       "      <td>Sonderklasse (Alfa MiTo / Citroën DS3)</td>\n",
       "      <td>1060582</td>\n",
       "      <td>Nordrhein-Westfalen</td>\n",
       "    </tr>\n",
       "  </tbody>\n",
       "</table>\n",
       "<p>10 rows × 24 columns</p>\n",
       "</div>"
      ],
      "text/plain": [
       "   BOOKING_HAL_ID  CATEGORY_HAL_ID  VEHICLE_HAL_ID  \\\n",
       "0        17842196           100012          150359   \n",
       "1        19923967           100012          150359   \n",
       "2        20453330           100012          150359   \n",
       "3        20799835           100012          150359   \n",
       "4        20799864           100012          150359   \n",
       "5        20799880           100012          150359   \n",
       "6        20896382           100012          150359   \n",
       "7        20896766           100012          150359   \n",
       "8        21378191           100012          150359   \n",
       "9        21394268           100012          150359   \n",
       "\n",
       "                            CUSTOMER_HAL_ID         DATE_BOOKING  \\\n",
       "0  9680D41CFEFE292240253676FF6DD6C242B98EFD  2013-06-05 08:49:33   \n",
       "1  9680D41CFEFE292240253676FF6DD6C242B98EFD  2013-09-15 12:19:14   \n",
       "2  9680D41CFEFE292240253676FF6DD6C242B98EFD  2013-10-19 13:25:38   \n",
       "3  D564D3A1EA8BF096581556520B8F6582BEB65EFD  2013-11-10 14:10:26   \n",
       "4  D564D3A1EA8BF096581556520B8F6582BEB65EFD  2013-11-10 14:13:25   \n",
       "5  D564D3A1EA8BF096581556520B8F6582BEB65EFD  2013-11-10 14:14:54   \n",
       "6  9680D41CFEFE292240253676FF6DD6C242B98EFD  2013-11-17 12:42:57   \n",
       "7  9680D41CFEFE292240253676FF6DD6C242B98EFD  2013-11-17 13:20:34   \n",
       "8  0FC7F06DDDD951AF7009288F8D4B9060925ED107  2014-01-02 17:54:09   \n",
       "9  0646C8373257083080F514A1E7B483BE1020D949  2014-01-04 15:07:28   \n",
       "\n",
       "             DATE_FROM           DATE_UNTIL COMPUTE_EXTRA_BOOKING_FEE  \\\n",
       "0  2014-01-12 13:00:00  2014-01-12 14:30:00                      Nein   \n",
       "1  2014-01-05 14:00:00  2014-01-05 15:30:00                      Nein   \n",
       "2  2014-03-16 18:15:00  2014-03-16 19:30:00                      Nein   \n",
       "3  2014-01-06 17:00:00  2014-01-06 23:45:00                      Nein   \n",
       "4  2014-01-13 17:00:00  2014-01-13 23:45:00                      Nein   \n",
       "5  2014-01-20 17:00:00  2014-01-20 23:45:00                      Nein   \n",
       "6  2014-02-04 08:45:00  2014-02-04 10:15:00                      Nein   \n",
       "7  2014-01-01 14:30:00  2014-01-01 16:00:00                      Nein   \n",
       "8  2014-01-03 09:00:00  2014-01-03 22:30:00                      Nein   \n",
       "9  2014-01-04 16:30:00  2014-01-04 17:30:00                      Nein   \n",
       "\n",
       "  TRAVERSE_USE DISTANCE          ...          RENTAL_ZONE_HAL_SRC  \\\n",
       "0         Nein       14          ...                      Station   \n",
       "1         Nein        0          ...                      Station   \n",
       "2         Nein       17          ...                      Station   \n",
       "3         Nein       16          ...                      Station   \n",
       "4         Nein       16          ...                      Station   \n",
       "5         Nein       15          ...                      Station   \n",
       "6         Nein        5          ...                      Station   \n",
       "7         Nein       16          ...                      Station   \n",
       "8         Nein     1001          ...                      Station   \n",
       "9         Nein        2          ...                      Station   \n",
       "\n",
       "   CITY_RENTAL_ZONE TECHNICAL_INCOME_CHANNEL  TRAVERSE EXTRA_BOOKING_FEE  \\\n",
       "0              Köln                 Internet         0                 0   \n",
       "1              Köln                 Internet         0                 0   \n",
       "2              Köln                 Internet         0                 0   \n",
       "3              Köln                 Internet         0                 0   \n",
       "4              Köln                 Internet         0                 0   \n",
       "5              Köln                 Internet         0                 0   \n",
       "6              Köln                 Internet         0                 0   \n",
       "7              Köln                 Internet         0                 0   \n",
       "8              Köln                 Internet         0                 0   \n",
       "9              Köln                 Internet         0                 0   \n",
       "\n",
       "  VEHICLE_MANUFACTURER_NAME FUEL_TYPE_NAME  \\\n",
       "0                   Citroën         Diesel   \n",
       "1                   Citroën         Diesel   \n",
       "2                   Citroën         Diesel   \n",
       "3                   Citroën         Diesel   \n",
       "4                   Citroën         Diesel   \n",
       "5                   Citroën         Diesel   \n",
       "6                   Citroën         Diesel   \n",
       "7                   Citroën         Diesel   \n",
       "8                   Citroën         Diesel   \n",
       "9                   Citroën         Diesel   \n",
       "\n",
       "                                 CATEGORY  POPULATION         FEDERAL_STATE  \n",
       "0  Sonderklasse (Alfa MiTo / Citroën DS3)     1060582  Nordrhein-Westfalen   \n",
       "1  Sonderklasse (Alfa MiTo / Citroën DS3)     1060582  Nordrhein-Westfalen   \n",
       "2  Sonderklasse (Alfa MiTo / Citroën DS3)     1060582  Nordrhein-Westfalen   \n",
       "3  Sonderklasse (Alfa MiTo / Citroën DS3)     1060582  Nordrhein-Westfalen   \n",
       "4  Sonderklasse (Alfa MiTo / Citroën DS3)     1060582  Nordrhein-Westfalen   \n",
       "5  Sonderklasse (Alfa MiTo / Citroën DS3)     1060582  Nordrhein-Westfalen   \n",
       "6  Sonderklasse (Alfa MiTo / Citroën DS3)     1060582  Nordrhein-Westfalen   \n",
       "7  Sonderklasse (Alfa MiTo / Citroën DS3)     1060582  Nordrhein-Westfalen   \n",
       "8  Sonderklasse (Alfa MiTo / Citroën DS3)     1060582  Nordrhein-Westfalen   \n",
       "9  Sonderklasse (Alfa MiTo / Citroën DS3)     1060582  Nordrhein-Westfalen   \n",
       "\n",
       "[10 rows x 24 columns]"
      ]
     },
     "execution_count": 20,
     "metadata": {},
     "output_type": "execute_result"
    }
   ],
   "source": [
    "data = pd.merge(data_p, population, on ='CITY_RENTAL_ZONE')\n",
    "data.head(10)"
   ]
  },
  {
   "cell_type": "markdown",
   "metadata": {},
   "source": [
    "# Converting to datetime type"
   ]
  },
  {
   "cell_type": "code",
   "execution_count": 21,
   "metadata": {
    "collapsed": true
   },
   "outputs": [],
   "source": [
    "data['DATE_BOOKING'] = pd.to_datetime(data.DATE_BOOKING)\n",
    "data['DATE_FROM'] = pd.to_datetime(data.DATE_FROM)\n",
    "data['DATE_UNTIL'] = pd.to_datetime(data.DATE_UNTIL)"
   ]
  },
  {
   "cell_type": "code",
   "execution_count": 22,
   "metadata": {
    "scrolled": true
   },
   "outputs": [
    {
     "data": {
      "text/plain": [
       "BOOKING_HAL_ID                        int64\n",
       "CATEGORY_HAL_ID                       int64\n",
       "VEHICLE_HAL_ID                        int64\n",
       "CUSTOMER_HAL_ID                      object\n",
       "DATE_BOOKING                 datetime64[ns]\n",
       "DATE_FROM                    datetime64[ns]\n",
       "DATE_UNTIL                   datetime64[ns]\n",
       "COMPUTE_EXTRA_BOOKING_FEE            object\n",
       "TRAVERSE_USE                         object\n",
       "DISTANCE                             object\n",
       "START_RENTAL_ZONE                    object\n",
       "START_RENTAL_ZONE_HAL_ID              int64\n",
       "END_RENTAL_ZONE                      object\n",
       "END_RENTAL_ZONE_HAL_ID                int64\n",
       "RENTAL_ZONE_HAL_SRC                  object\n",
       "CITY_RENTAL_ZONE                     object\n",
       "TECHNICAL_INCOME_CHANNEL             object\n",
       "TRAVERSE                              int64\n",
       "EXTRA_BOOKING_FEE                     int64\n",
       "VEHICLE_MANUFACTURER_NAME            object\n",
       "FUEL_TYPE_NAME                       object\n",
       "CATEGORY                             object\n",
       "POPULATION                            int64\n",
       "FEDERAL_STATE                        object\n",
       "dtype: object"
      ]
     },
     "execution_count": 22,
     "metadata": {},
     "output_type": "execute_result"
    }
   ],
   "source": [
    "data.dtypes"
   ]
  },
  {
   "cell_type": "code",
   "execution_count": 23,
   "metadata": {
    "collapsed": true
   },
   "outputs": [],
   "source": [
    "#for booking date\n",
    "data['BOOKING_DATE']= data.DATE_BOOKING.dt.date\n",
    "data['FROM_DATE']= data.DATE_FROM.dt.date\n",
    "data['BOOKING_YEAR']= data.DATE_BOOKING.dt.year\n",
    "data['BOOKING_MONTH']= data.DATE_BOOKING.dt.month\n",
    "data['BOOKING_WDAY']= data.DATE_BOOKING.dt.weekday"
   ]
  },
  {
   "cell_type": "code",
   "execution_count": 24,
   "metadata": {
    "collapsed": true
   },
   "outputs": [],
   "source": [
    "data['BOOKING_QUARTER']= data.DATE_BOOKING.dt.quarter"
   ]
  },
  {
   "cell_type": "code",
   "execution_count": 25,
   "metadata": {
    "collapsed": true
   },
   "outputs": [],
   "source": [
    "data['FROM_MONTH']= data.DATE_FROM.dt.month"
   ]
  },
  {
   "cell_type": "code",
   "execution_count": 26,
   "metadata": {
    "collapsed": true
   },
   "outputs": [],
   "source": [
    "data['UNTIL_MONTH']= data.DATE_UNTIL.dt.month"
   ]
  },
  {
   "cell_type": "code",
   "execution_count": 27,
   "metadata": {
    "collapsed": true
   },
   "outputs": [],
   "source": [
    "data['FROM_WDAY']= data.DATE_FROM.dt.weekday"
   ]
  },
  {
   "cell_type": "code",
   "execution_count": 28,
   "metadata": {
    "collapsed": true
   },
   "outputs": [],
   "source": [
    "data['UNTIL_WDAY']= data.DATE_UNTIL.dt.weekday"
   ]
  },
  {
   "cell_type": "code",
   "execution_count": 29,
   "metadata": {
    "collapsed": true
   },
   "outputs": [],
   "source": [
    "data['BOOKING_DATE'] = pd.to_datetime(data.BOOKING_DATE)"
   ]
  },
  {
   "cell_type": "code",
   "execution_count": 30,
   "metadata": {
    "collapsed": true
   },
   "outputs": [],
   "source": [
    "data['FROM_DATE'] = pd.to_datetime(data.FROM_DATE)"
   ]
  },
  {
   "cell_type": "code",
   "execution_count": 31,
   "metadata": {
    "collapsed": true
   },
   "outputs": [],
   "source": [
    "#data.apply(lambda x: len(x.unique()))"
   ]
  },
  {
   "cell_type": "code",
   "execution_count": 32,
   "metadata": {
    "collapsed": true
   },
   "outputs": [],
   "source": [
    "#data['VEHICLE_MANUFACTURER_NAME'].value_counts()"
   ]
  },
  {
   "cell_type": "code",
   "execution_count": 33,
   "metadata": {
    "collapsed": true
   },
   "outputs": [],
   "source": [
    "#data['VEHICLE_HAL_ID'].value_counts()"
   ]
  },
  {
   "cell_type": "code",
   "execution_count": 34,
   "metadata": {
    "collapsed": true
   },
   "outputs": [],
   "source": [
    "#data.describe()"
   ]
  },
  {
   "cell_type": "code",
   "execution_count": 35,
   "metadata": {
    "collapsed": true,
    "scrolled": true
   },
   "outputs": [],
   "source": [
    "#data.groupby('CUSTOMER_HAL_ID')['BOOKING_HAL_ID'].apply(np.unique)"
   ]
  },
  {
   "cell_type": "code",
   "execution_count": 36,
   "metadata": {
    "collapsed": true
   },
   "outputs": [],
   "source": [
    "#data.pivot_table(columns='CUSTOMER_HAL_ID')"
   ]
  },
  {
   "cell_type": "code",
   "execution_count": 37,
   "metadata": {
    "collapsed": true
   },
   "outputs": [],
   "source": [
    "#data['START_RENTAL_ZONE'].value_counts()"
   ]
  },
  {
   "cell_type": "code",
   "execution_count": 38,
   "metadata": {
    "collapsed": true
   },
   "outputs": [],
   "source": [
    "#db_data['RENTAL_ZONE_HAL_SRC'].value_counts()"
   ]
  },
  {
   "cell_type": "code",
   "execution_count": 39,
   "metadata": {
    "collapsed": true
   },
   "outputs": [],
   "source": [
    "#db_data.applymap(lambda x: not x or pd.isnull(x)).sum()"
   ]
  },
  {
   "cell_type": "code",
   "execution_count": 40,
   "metadata": {
    "collapsed": true
   },
   "outputs": [],
   "source": [
    "#db_data[['RENTAL_ZONE_HAL_SRC', 'DISTANCE']].plot()"
   ]
  },
  {
   "cell_type": "code",
   "execution_count": 41,
   "metadata": {
    "collapsed": true,
    "scrolled": true
   },
   "outputs": [],
   "source": [
    "#data['TECHNICAL_INCOME_CHANNEL'].value_counts(dropna=False)"
   ]
  },
  {
   "cell_type": "code",
   "execution_count": 42,
   "metadata": {
    "collapsed": true
   },
   "outputs": [],
   "source": [
    "#db_data.iloc[:,6:].plot()\n",
    "#plt.show()\n",
    "#db_data.isnull().sum()"
   ]
  },
  {
   "cell_type": "code",
   "execution_count": 43,
   "metadata": {
    "collapsed": true
   },
   "outputs": [],
   "source": [
    "#db_data[db_data.DISTANCE.isnull()].sort_index()\n",
    "#0 and NaN vales?"
   ]
  },
  {
   "cell_type": "code",
   "execution_count": 44,
   "metadata": {
    "collapsed": true,
    "scrolled": true
   },
   "outputs": [],
   "source": [
    "#db_data.loc[db_data['DISTANCE'].isnull()].sum()\n",
    "\n",
    "#data[data['DISTANCE']==0]"
   ]
  },
  {
   "cell_type": "code",
   "execution_count": 45,
   "metadata": {
    "collapsed": true,
    "scrolled": true
   },
   "outputs": [],
   "source": [
    "#db_data[db_data.TECHNICAL_INCOME_CHANNEL.isnull()].sort_index()\n",
    "#what shold we do with this null values"
   ]
  },
  {
   "cell_type": "code",
   "execution_count": 46,
   "metadata": {},
   "outputs": [
    {
     "data": {
      "text/plain": [
       "Timestamp('2017-05-16 07:39:22')"
      ]
     },
     "execution_count": 46,
     "metadata": {},
     "output_type": "execute_result"
    }
   ],
   "source": [
    "data.DATE_BOOKING.max()"
   ]
  },
  {
   "cell_type": "code",
   "execution_count": 47,
   "metadata": {},
   "outputs": [
    {
     "data": {
      "text/plain": [
       "2013       935\n",
       "2014    188449\n",
       "2015    167970\n",
       "2016    140458\n",
       "2017     45170\n",
       "Name: BOOKING_YEAR, dtype: int64"
      ]
     },
     "execution_count": 47,
     "metadata": {},
     "output_type": "execute_result"
    }
   ],
   "source": [
    "data.BOOKING_YEAR.value_counts().sort_index()"
   ]
  },
  {
   "cell_type": "code",
   "execution_count": 48,
   "metadata": {},
   "outputs": [
    {
     "data": {
      "text/plain": [
       "Timestamp('2013-06-05 08:49:33')"
      ]
     },
     "execution_count": 48,
     "metadata": {},
     "output_type": "execute_result"
    }
   ],
   "source": [
    "data.DATE_BOOKING.min()"
   ]
  },
  {
   "cell_type": "code",
   "execution_count": 49,
   "metadata": {},
   "outputs": [
    {
     "data": {
      "text/plain": [
       "Timestamp('2014-01-01 00:30:00')"
      ]
     },
     "execution_count": 49,
     "metadata": {},
     "output_type": "execute_result"
    }
   ],
   "source": [
    "data.DATE_FROM.min()"
   ]
  },
  {
   "cell_type": "code",
   "execution_count": 50,
   "metadata": {
    "collapsed": true
   },
   "outputs": [],
   "source": [
    "#one_tenth = db_data.sample(frac = .1, random_state=np.random.randint(10))"
   ]
  },
  {
   "cell_type": "code",
   "execution_count": 51,
   "metadata": {
    "collapsed": true
   },
   "outputs": [],
   "source": [
    "#one_tenth = one_tenth.sort_values(by=['DATE_BOOKING'], ascending=[True])"
   ]
  },
  {
   "cell_type": "code",
   "execution_count": 52,
   "metadata": {
    "collapsed": true
   },
   "outputs": [],
   "source": [
    "#one_tenth.head()"
   ]
  },
  {
   "cell_type": "code",
   "execution_count": 53,
   "metadata": {},
   "outputs": [
    {
     "data": {
      "text/html": [
       "<div>\n",
       "<style>\n",
       "    .dataframe thead tr:only-child th {\n",
       "        text-align: right;\n",
       "    }\n",
       "\n",
       "    .dataframe thead th {\n",
       "        text-align: left;\n",
       "    }\n",
       "\n",
       "    .dataframe tbody tr th {\n",
       "        vertical-align: top;\n",
       "    }\n",
       "</style>\n",
       "<table border=\"1\" class=\"dataframe\">\n",
       "  <thead>\n",
       "    <tr style=\"text-align: right;\">\n",
       "      <th></th>\n",
       "      <th>BOOKING_HAL_ID</th>\n",
       "      <th>CATEGORY_HAL_ID</th>\n",
       "      <th>VEHICLE_HAL_ID</th>\n",
       "      <th>CUSTOMER_HAL_ID</th>\n",
       "      <th>DATE_BOOKING</th>\n",
       "      <th>DATE_FROM</th>\n",
       "      <th>DATE_UNTIL</th>\n",
       "      <th>COMPUTE_EXTRA_BOOKING_FEE</th>\n",
       "      <th>TRAVERSE_USE</th>\n",
       "      <th>DISTANCE</th>\n",
       "      <th>...</th>\n",
       "      <th>BOOKING_DATE</th>\n",
       "      <th>FROM_DATE</th>\n",
       "      <th>BOOKING_YEAR</th>\n",
       "      <th>BOOKING_MONTH</th>\n",
       "      <th>BOOKING_WDAY</th>\n",
       "      <th>BOOKING_QUARTER</th>\n",
       "      <th>FROM_MONTH</th>\n",
       "      <th>UNTIL_MONTH</th>\n",
       "      <th>FROM_WDAY</th>\n",
       "      <th>UNTIL_WDAY</th>\n",
       "    </tr>\n",
       "  </thead>\n",
       "  <tbody>\n",
       "    <tr>\n",
       "      <th>0</th>\n",
       "      <td>17842196</td>\n",
       "      <td>100012</td>\n",
       "      <td>150359</td>\n",
       "      <td>9680D41CFEFE292240253676FF6DD6C242B98EFD</td>\n",
       "      <td>2013-06-05 08:49:33</td>\n",
       "      <td>2014-01-12 13:00:00</td>\n",
       "      <td>2014-01-12 14:30:00</td>\n",
       "      <td>Nein</td>\n",
       "      <td>Nein</td>\n",
       "      <td>14</td>\n",
       "      <td>...</td>\n",
       "      <td>2013-06-05</td>\n",
       "      <td>2014-01-12</td>\n",
       "      <td>2013</td>\n",
       "      <td>6</td>\n",
       "      <td>2</td>\n",
       "      <td>2</td>\n",
       "      <td>1</td>\n",
       "      <td>1</td>\n",
       "      <td>6</td>\n",
       "      <td>6</td>\n",
       "    </tr>\n",
       "    <tr>\n",
       "      <th>1</th>\n",
       "      <td>19923967</td>\n",
       "      <td>100012</td>\n",
       "      <td>150359</td>\n",
       "      <td>9680D41CFEFE292240253676FF6DD6C242B98EFD</td>\n",
       "      <td>2013-09-15 12:19:14</td>\n",
       "      <td>2014-01-05 14:00:00</td>\n",
       "      <td>2014-01-05 15:30:00</td>\n",
       "      <td>Nein</td>\n",
       "      <td>Nein</td>\n",
       "      <td>0</td>\n",
       "      <td>...</td>\n",
       "      <td>2013-09-15</td>\n",
       "      <td>2014-01-05</td>\n",
       "      <td>2013</td>\n",
       "      <td>9</td>\n",
       "      <td>6</td>\n",
       "      <td>3</td>\n",
       "      <td>1</td>\n",
       "      <td>1</td>\n",
       "      <td>6</td>\n",
       "      <td>6</td>\n",
       "    </tr>\n",
       "    <tr>\n",
       "      <th>2</th>\n",
       "      <td>20453330</td>\n",
       "      <td>100012</td>\n",
       "      <td>150359</td>\n",
       "      <td>9680D41CFEFE292240253676FF6DD6C242B98EFD</td>\n",
       "      <td>2013-10-19 13:25:38</td>\n",
       "      <td>2014-03-16 18:15:00</td>\n",
       "      <td>2014-03-16 19:30:00</td>\n",
       "      <td>Nein</td>\n",
       "      <td>Nein</td>\n",
       "      <td>17</td>\n",
       "      <td>...</td>\n",
       "      <td>2013-10-19</td>\n",
       "      <td>2014-03-16</td>\n",
       "      <td>2013</td>\n",
       "      <td>10</td>\n",
       "      <td>5</td>\n",
       "      <td>4</td>\n",
       "      <td>3</td>\n",
       "      <td>3</td>\n",
       "      <td>6</td>\n",
       "      <td>6</td>\n",
       "    </tr>\n",
       "    <tr>\n",
       "      <th>3</th>\n",
       "      <td>20799835</td>\n",
       "      <td>100012</td>\n",
       "      <td>150359</td>\n",
       "      <td>D564D3A1EA8BF096581556520B8F6582BEB65EFD</td>\n",
       "      <td>2013-11-10 14:10:26</td>\n",
       "      <td>2014-01-06 17:00:00</td>\n",
       "      <td>2014-01-06 23:45:00</td>\n",
       "      <td>Nein</td>\n",
       "      <td>Nein</td>\n",
       "      <td>16</td>\n",
       "      <td>...</td>\n",
       "      <td>2013-11-10</td>\n",
       "      <td>2014-01-06</td>\n",
       "      <td>2013</td>\n",
       "      <td>11</td>\n",
       "      <td>6</td>\n",
       "      <td>4</td>\n",
       "      <td>1</td>\n",
       "      <td>1</td>\n",
       "      <td>0</td>\n",
       "      <td>0</td>\n",
       "    </tr>\n",
       "    <tr>\n",
       "      <th>4</th>\n",
       "      <td>20799864</td>\n",
       "      <td>100012</td>\n",
       "      <td>150359</td>\n",
       "      <td>D564D3A1EA8BF096581556520B8F6582BEB65EFD</td>\n",
       "      <td>2013-11-10 14:13:25</td>\n",
       "      <td>2014-01-13 17:00:00</td>\n",
       "      <td>2014-01-13 23:45:00</td>\n",
       "      <td>Nein</td>\n",
       "      <td>Nein</td>\n",
       "      <td>16</td>\n",
       "      <td>...</td>\n",
       "      <td>2013-11-10</td>\n",
       "      <td>2014-01-13</td>\n",
       "      <td>2013</td>\n",
       "      <td>11</td>\n",
       "      <td>6</td>\n",
       "      <td>4</td>\n",
       "      <td>1</td>\n",
       "      <td>1</td>\n",
       "      <td>0</td>\n",
       "      <td>0</td>\n",
       "    </tr>\n",
       "  </tbody>\n",
       "</table>\n",
       "<p>5 rows × 34 columns</p>\n",
       "</div>"
      ],
      "text/plain": [
       "   BOOKING_HAL_ID  CATEGORY_HAL_ID  VEHICLE_HAL_ID  \\\n",
       "0        17842196           100012          150359   \n",
       "1        19923967           100012          150359   \n",
       "2        20453330           100012          150359   \n",
       "3        20799835           100012          150359   \n",
       "4        20799864           100012          150359   \n",
       "\n",
       "                            CUSTOMER_HAL_ID        DATE_BOOKING  \\\n",
       "0  9680D41CFEFE292240253676FF6DD6C242B98EFD 2013-06-05 08:49:33   \n",
       "1  9680D41CFEFE292240253676FF6DD6C242B98EFD 2013-09-15 12:19:14   \n",
       "2  9680D41CFEFE292240253676FF6DD6C242B98EFD 2013-10-19 13:25:38   \n",
       "3  D564D3A1EA8BF096581556520B8F6582BEB65EFD 2013-11-10 14:10:26   \n",
       "4  D564D3A1EA8BF096581556520B8F6582BEB65EFD 2013-11-10 14:13:25   \n",
       "\n",
       "            DATE_FROM          DATE_UNTIL COMPUTE_EXTRA_BOOKING_FEE  \\\n",
       "0 2014-01-12 13:00:00 2014-01-12 14:30:00                      Nein   \n",
       "1 2014-01-05 14:00:00 2014-01-05 15:30:00                      Nein   \n",
       "2 2014-03-16 18:15:00 2014-03-16 19:30:00                      Nein   \n",
       "3 2014-01-06 17:00:00 2014-01-06 23:45:00                      Nein   \n",
       "4 2014-01-13 17:00:00 2014-01-13 23:45:00                      Nein   \n",
       "\n",
       "  TRAVERSE_USE DISTANCE    ...     BOOKING_DATE  FROM_DATE BOOKING_YEAR  \\\n",
       "0         Nein       14    ...       2013-06-05 2014-01-12         2013   \n",
       "1         Nein        0    ...       2013-09-15 2014-01-05         2013   \n",
       "2         Nein       17    ...       2013-10-19 2014-03-16         2013   \n",
       "3         Nein       16    ...       2013-11-10 2014-01-06         2013   \n",
       "4         Nein       16    ...       2013-11-10 2014-01-13         2013   \n",
       "\n",
       "   BOOKING_MONTH BOOKING_WDAY BOOKING_QUARTER FROM_MONTH  UNTIL_MONTH  \\\n",
       "0              6            2               2          1            1   \n",
       "1              9            6               3          1            1   \n",
       "2             10            5               4          3            3   \n",
       "3             11            6               4          1            1   \n",
       "4             11            6               4          1            1   \n",
       "\n",
       "   FROM_WDAY UNTIL_WDAY  \n",
       "0          6          6  \n",
       "1          6          6  \n",
       "2          6          6  \n",
       "3          0          0  \n",
       "4          0          0  \n",
       "\n",
       "[5 rows x 34 columns]"
      ]
     },
     "execution_count": 53,
     "metadata": {},
     "output_type": "execute_result"
    }
   ],
   "source": [
    "data.head()"
   ]
  },
  {
   "cell_type": "code",
   "execution_count": 54,
   "metadata": {
    "collapsed": true
   },
   "outputs": [],
   "source": [
    "#data.columns"
   ]
  },
  {
   "cell_type": "code",
   "execution_count": 55,
   "metadata": {},
   "outputs": [
    {
     "data": {
      "text/html": [
       "<div>\n",
       "<style>\n",
       "    .dataframe thead tr:only-child th {\n",
       "        text-align: right;\n",
       "    }\n",
       "\n",
       "    .dataframe thead th {\n",
       "        text-align: left;\n",
       "    }\n",
       "\n",
       "    .dataframe tbody tr th {\n",
       "        vertical-align: top;\n",
       "    }\n",
       "</style>\n",
       "<table border=\"1\" class=\"dataframe\">\n",
       "  <thead>\n",
       "    <tr style=\"text-align: right;\">\n",
       "      <th></th>\n",
       "      <th>BOOKING_HAL_ID</th>\n",
       "      <th>CATEGORY_HAL_ID</th>\n",
       "      <th>VEHICLE_HAL_ID</th>\n",
       "      <th>CUSTOMER_HAL_ID</th>\n",
       "      <th>DATE_BOOKING</th>\n",
       "      <th>DATE_FROM</th>\n",
       "      <th>DATE_UNTIL</th>\n",
       "      <th>COMPUTE_EXTRA_BOOKING_FEE</th>\n",
       "      <th>TRAVERSE_USE</th>\n",
       "      <th>DISTANCE</th>\n",
       "      <th>...</th>\n",
       "      <th>BOOKING_DATE</th>\n",
       "      <th>FROM_DATE</th>\n",
       "      <th>BOOKING_YEAR</th>\n",
       "      <th>BOOKING_MONTH</th>\n",
       "      <th>BOOKING_WDAY</th>\n",
       "      <th>BOOKING_QUARTER</th>\n",
       "      <th>FROM_MONTH</th>\n",
       "      <th>UNTIL_MONTH</th>\n",
       "      <th>FROM_WDAY</th>\n",
       "      <th>UNTIL_WDAY</th>\n",
       "    </tr>\n",
       "  </thead>\n",
       "  <tbody>\n",
       "    <tr>\n",
       "      <th>8</th>\n",
       "      <td>21378191</td>\n",
       "      <td>100012</td>\n",
       "      <td>150359</td>\n",
       "      <td>0FC7F06DDDD951AF7009288F8D4B9060925ED107</td>\n",
       "      <td>2014-01-02 17:54:09</td>\n",
       "      <td>2014-01-03 09:00:00</td>\n",
       "      <td>2014-01-03 22:30:00</td>\n",
       "      <td>Nein</td>\n",
       "      <td>Nein</td>\n",
       "      <td>1001</td>\n",
       "      <td>...</td>\n",
       "      <td>2014-01-02</td>\n",
       "      <td>2014-01-03</td>\n",
       "      <td>2014</td>\n",
       "      <td>1</td>\n",
       "      <td>3</td>\n",
       "      <td>1</td>\n",
       "      <td>1</td>\n",
       "      <td>1</td>\n",
       "      <td>4</td>\n",
       "      <td>4</td>\n",
       "    </tr>\n",
       "    <tr>\n",
       "      <th>9</th>\n",
       "      <td>21394268</td>\n",
       "      <td>100012</td>\n",
       "      <td>150359</td>\n",
       "      <td>0646C8373257083080F514A1E7B483BE1020D949</td>\n",
       "      <td>2014-01-04 15:07:28</td>\n",
       "      <td>2014-01-04 16:30:00</td>\n",
       "      <td>2014-01-04 17:30:00</td>\n",
       "      <td>Nein</td>\n",
       "      <td>Nein</td>\n",
       "      <td>2</td>\n",
       "      <td>...</td>\n",
       "      <td>2014-01-04</td>\n",
       "      <td>2014-01-04</td>\n",
       "      <td>2014</td>\n",
       "      <td>1</td>\n",
       "      <td>5</td>\n",
       "      <td>1</td>\n",
       "      <td>1</td>\n",
       "      <td>1</td>\n",
       "      <td>5</td>\n",
       "      <td>5</td>\n",
       "    </tr>\n",
       "    <tr>\n",
       "      <th>10</th>\n",
       "      <td>21395020</td>\n",
       "      <td>100012</td>\n",
       "      <td>150359</td>\n",
       "      <td>BEF6E7452694AB944BA5E2FADFA107C29D6DC111</td>\n",
       "      <td>2014-01-04 16:23:01</td>\n",
       "      <td>2014-01-04 17:45:00</td>\n",
       "      <td>2014-01-04 18:45:00</td>\n",
       "      <td>Nein</td>\n",
       "      <td>Nein</td>\n",
       "      <td>4</td>\n",
       "      <td>...</td>\n",
       "      <td>2014-01-04</td>\n",
       "      <td>2014-01-04</td>\n",
       "      <td>2014</td>\n",
       "      <td>1</td>\n",
       "      <td>5</td>\n",
       "      <td>1</td>\n",
       "      <td>1</td>\n",
       "      <td>1</td>\n",
       "      <td>5</td>\n",
       "      <td>5</td>\n",
       "    </tr>\n",
       "    <tr>\n",
       "      <th>11</th>\n",
       "      <td>21404210</td>\n",
       "      <td>100012</td>\n",
       "      <td>150359</td>\n",
       "      <td>B38DC9BA3EF8BB7717EA1B1EF91FFECC05D60567</td>\n",
       "      <td>2014-01-05 23:02:27</td>\n",
       "      <td>2014-01-05 23:15:00</td>\n",
       "      <td>2014-01-06 00:30:00</td>\n",
       "      <td>Nein</td>\n",
       "      <td>Nein</td>\n",
       "      <td>33</td>\n",
       "      <td>...</td>\n",
       "      <td>2014-01-05</td>\n",
       "      <td>2014-01-05</td>\n",
       "      <td>2014</td>\n",
       "      <td>1</td>\n",
       "      <td>6</td>\n",
       "      <td>1</td>\n",
       "      <td>1</td>\n",
       "      <td>1</td>\n",
       "      <td>6</td>\n",
       "      <td>0</td>\n",
       "    </tr>\n",
       "    <tr>\n",
       "      <th>12</th>\n",
       "      <td>21406248</td>\n",
       "      <td>100012</td>\n",
       "      <td>150359</td>\n",
       "      <td>31A345F78FE6B781182BEFFCA97779712E585472</td>\n",
       "      <td>2014-01-06 09:45:36</td>\n",
       "      <td>2014-01-07 10:00:00</td>\n",
       "      <td>2014-01-07 14:00:00</td>\n",
       "      <td>Nein</td>\n",
       "      <td>Nein</td>\n",
       "      <td>36</td>\n",
       "      <td>...</td>\n",
       "      <td>2014-01-06</td>\n",
       "      <td>2014-01-07</td>\n",
       "      <td>2014</td>\n",
       "      <td>1</td>\n",
       "      <td>0</td>\n",
       "      <td>1</td>\n",
       "      <td>1</td>\n",
       "      <td>1</td>\n",
       "      <td>1</td>\n",
       "      <td>1</td>\n",
       "    </tr>\n",
       "  </tbody>\n",
       "</table>\n",
       "<p>5 rows × 34 columns</p>\n",
       "</div>"
      ],
      "text/plain": [
       "    BOOKING_HAL_ID  CATEGORY_HAL_ID  VEHICLE_HAL_ID  \\\n",
       "8         21378191           100012          150359   \n",
       "9         21394268           100012          150359   \n",
       "10        21395020           100012          150359   \n",
       "11        21404210           100012          150359   \n",
       "12        21406248           100012          150359   \n",
       "\n",
       "                             CUSTOMER_HAL_ID        DATE_BOOKING  \\\n",
       "8   0FC7F06DDDD951AF7009288F8D4B9060925ED107 2014-01-02 17:54:09   \n",
       "9   0646C8373257083080F514A1E7B483BE1020D949 2014-01-04 15:07:28   \n",
       "10  BEF6E7452694AB944BA5E2FADFA107C29D6DC111 2014-01-04 16:23:01   \n",
       "11  B38DC9BA3EF8BB7717EA1B1EF91FFECC05D60567 2014-01-05 23:02:27   \n",
       "12  31A345F78FE6B781182BEFFCA97779712E585472 2014-01-06 09:45:36   \n",
       "\n",
       "             DATE_FROM          DATE_UNTIL COMPUTE_EXTRA_BOOKING_FEE  \\\n",
       "8  2014-01-03 09:00:00 2014-01-03 22:30:00                      Nein   \n",
       "9  2014-01-04 16:30:00 2014-01-04 17:30:00                      Nein   \n",
       "10 2014-01-04 17:45:00 2014-01-04 18:45:00                      Nein   \n",
       "11 2014-01-05 23:15:00 2014-01-06 00:30:00                      Nein   \n",
       "12 2014-01-07 10:00:00 2014-01-07 14:00:00                      Nein   \n",
       "\n",
       "   TRAVERSE_USE DISTANCE    ...     BOOKING_DATE  FROM_DATE BOOKING_YEAR  \\\n",
       "8          Nein     1001    ...       2014-01-02 2014-01-03         2014   \n",
       "9          Nein        2    ...       2014-01-04 2014-01-04         2014   \n",
       "10         Nein        4    ...       2014-01-04 2014-01-04         2014   \n",
       "11         Nein       33    ...       2014-01-05 2014-01-05         2014   \n",
       "12         Nein       36    ...       2014-01-06 2014-01-07         2014   \n",
       "\n",
       "    BOOKING_MONTH BOOKING_WDAY BOOKING_QUARTER FROM_MONTH  UNTIL_MONTH  \\\n",
       "8               1            3               1          1            1   \n",
       "9               1            5               1          1            1   \n",
       "10              1            5               1          1            1   \n",
       "11              1            6               1          1            1   \n",
       "12              1            0               1          1            1   \n",
       "\n",
       "    FROM_WDAY UNTIL_WDAY  \n",
       "8           4          4  \n",
       "9           5          5  \n",
       "10          5          5  \n",
       "11          6          0  \n",
       "12          1          1  \n",
       "\n",
       "[5 rows x 34 columns]"
      ]
     },
     "execution_count": 55,
     "metadata": {},
     "output_type": "execute_result"
    }
   ],
   "source": [
    "year = data[(data.BOOKING_YEAR < 2017) & (data.BOOKING_YEAR > 2013)]\n",
    "year.head()"
   ]
  },
  {
   "cell_type": "code",
   "execution_count": 56,
   "metadata": {},
   "outputs": [
    {
     "data": {
      "text/html": [
       "<div>\n",
       "<style>\n",
       "    .dataframe thead tr:only-child th {\n",
       "        text-align: right;\n",
       "    }\n",
       "\n",
       "    .dataframe thead th {\n",
       "        text-align: left;\n",
       "    }\n",
       "\n",
       "    .dataframe tbody tr th {\n",
       "        vertical-align: top;\n",
       "    }\n",
       "</style>\n",
       "<table border=\"1\" class=\"dataframe\">\n",
       "  <thead>\n",
       "    <tr style=\"text-align: right;\">\n",
       "      <th></th>\n",
       "      <th>BOOKING_HAL_ID</th>\n",
       "      <th>CATEGORY_HAL_ID</th>\n",
       "      <th>VEHICLE_HAL_ID</th>\n",
       "      <th>CUSTOMER_HAL_ID</th>\n",
       "      <th>DATE_BOOKING</th>\n",
       "      <th>DATE_FROM</th>\n",
       "      <th>DATE_UNTIL</th>\n",
       "      <th>COMPUTE_EXTRA_BOOKING_FEE</th>\n",
       "      <th>TRAVERSE_USE</th>\n",
       "      <th>DISTANCE</th>\n",
       "      <th>...</th>\n",
       "      <th>BOOKING_DATE</th>\n",
       "      <th>FROM_DATE</th>\n",
       "      <th>BOOKING_YEAR</th>\n",
       "      <th>BOOKING_MONTH</th>\n",
       "      <th>BOOKING_WDAY</th>\n",
       "      <th>BOOKING_QUARTER</th>\n",
       "      <th>FROM_MONTH</th>\n",
       "      <th>UNTIL_MONTH</th>\n",
       "      <th>FROM_WDAY</th>\n",
       "      <th>UNTIL_WDAY</th>\n",
       "    </tr>\n",
       "  </thead>\n",
       "  <tbody>\n",
       "    <tr>\n",
       "      <th>542932</th>\n",
       "      <td>43060293</td>\n",
       "      <td>100005</td>\n",
       "      <td>161830</td>\n",
       "      <td>FBFBE66F79A8407BF2DA061EB035A9E3BA60FB5C</td>\n",
       "      <td>2016-11-30 11:29:24</td>\n",
       "      <td>2016-11-30 09:05:46</td>\n",
       "      <td>2016-11-30 10:48:14</td>\n",
       "      <td>Nein</td>\n",
       "      <td>Nein</td>\n",
       "      <td>26</td>\n",
       "      <td>...</td>\n",
       "      <td>2016-11-30</td>\n",
       "      <td>2016-11-30</td>\n",
       "      <td>2016</td>\n",
       "      <td>11</td>\n",
       "      <td>2</td>\n",
       "      <td>4</td>\n",
       "      <td>11</td>\n",
       "      <td>11</td>\n",
       "      <td>2</td>\n",
       "      <td>2</td>\n",
       "    </tr>\n",
       "    <tr>\n",
       "      <th>542933</th>\n",
       "      <td>43070512</td>\n",
       "      <td>100005</td>\n",
       "      <td>161830</td>\n",
       "      <td>FBFBE66F79A8407BF2DA061EB035A9E3BA60FB5C</td>\n",
       "      <td>2016-11-30 21:22:43</td>\n",
       "      <td>2016-11-30 19:04:47</td>\n",
       "      <td>2016-11-30 21:20:02</td>\n",
       "      <td>Nein</td>\n",
       "      <td>Nein</td>\n",
       "      <td>57</td>\n",
       "      <td>...</td>\n",
       "      <td>2016-11-30</td>\n",
       "      <td>2016-11-30</td>\n",
       "      <td>2016</td>\n",
       "      <td>11</td>\n",
       "      <td>2</td>\n",
       "      <td>4</td>\n",
       "      <td>11</td>\n",
       "      <td>11</td>\n",
       "      <td>2</td>\n",
       "      <td>2</td>\n",
       "    </tr>\n",
       "    <tr>\n",
       "      <th>542934</th>\n",
       "      <td>43079191</td>\n",
       "      <td>100005</td>\n",
       "      <td>161830</td>\n",
       "      <td>FBFBE66F79A8407BF2DA061EB035A9E3BA60FB5C</td>\n",
       "      <td>2016-12-01 11:53:11</td>\n",
       "      <td>2016-12-01 09:10:44</td>\n",
       "      <td>2016-12-01 11:31:47</td>\n",
       "      <td>Nein</td>\n",
       "      <td>Nein</td>\n",
       "      <td>36</td>\n",
       "      <td>...</td>\n",
       "      <td>2016-12-01</td>\n",
       "      <td>2016-12-01</td>\n",
       "      <td>2016</td>\n",
       "      <td>12</td>\n",
       "      <td>3</td>\n",
       "      <td>4</td>\n",
       "      <td>12</td>\n",
       "      <td>12</td>\n",
       "      <td>3</td>\n",
       "      <td>3</td>\n",
       "    </tr>\n",
       "    <tr>\n",
       "      <th>542935</th>\n",
       "      <td>43087847</td>\n",
       "      <td>100005</td>\n",
       "      <td>161830</td>\n",
       "      <td>FBFBE66F79A8407BF2DA061EB035A9E3BA60FB5C</td>\n",
       "      <td>2016-12-01 19:59:15</td>\n",
       "      <td>2016-12-01 18:11:49</td>\n",
       "      <td>2016-12-01 19:58:13</td>\n",
       "      <td>Nein</td>\n",
       "      <td>Nein</td>\n",
       "      <td>34</td>\n",
       "      <td>...</td>\n",
       "      <td>2016-12-01</td>\n",
       "      <td>2016-12-01</td>\n",
       "      <td>2016</td>\n",
       "      <td>12</td>\n",
       "      <td>3</td>\n",
       "      <td>4</td>\n",
       "      <td>12</td>\n",
       "      <td>12</td>\n",
       "      <td>3</td>\n",
       "      <td>3</td>\n",
       "    </tr>\n",
       "    <tr>\n",
       "      <th>542936</th>\n",
       "      <td>43097826</td>\n",
       "      <td>100005</td>\n",
       "      <td>161830</td>\n",
       "      <td>FBFBE66F79A8407BF2DA061EB035A9E3BA60FB5C</td>\n",
       "      <td>2016-12-02 11:02:44</td>\n",
       "      <td>2016-12-02 09:06:58</td>\n",
       "      <td>2016-12-02 11:01:21</td>\n",
       "      <td>Nein</td>\n",
       "      <td>Nein</td>\n",
       "      <td>18</td>\n",
       "      <td>...</td>\n",
       "      <td>2016-12-02</td>\n",
       "      <td>2016-12-02</td>\n",
       "      <td>2016</td>\n",
       "      <td>12</td>\n",
       "      <td>4</td>\n",
       "      <td>4</td>\n",
       "      <td>12</td>\n",
       "      <td>12</td>\n",
       "      <td>4</td>\n",
       "      <td>4</td>\n",
       "    </tr>\n",
       "  </tbody>\n",
       "</table>\n",
       "<p>5 rows × 34 columns</p>\n",
       "</div>"
      ],
      "text/plain": [
       "        BOOKING_HAL_ID  CATEGORY_HAL_ID  VEHICLE_HAL_ID  \\\n",
       "542932        43060293           100005          161830   \n",
       "542933        43070512           100005          161830   \n",
       "542934        43079191           100005          161830   \n",
       "542935        43087847           100005          161830   \n",
       "542936        43097826           100005          161830   \n",
       "\n",
       "                                 CUSTOMER_HAL_ID        DATE_BOOKING  \\\n",
       "542932  FBFBE66F79A8407BF2DA061EB035A9E3BA60FB5C 2016-11-30 11:29:24   \n",
       "542933  FBFBE66F79A8407BF2DA061EB035A9E3BA60FB5C 2016-11-30 21:22:43   \n",
       "542934  FBFBE66F79A8407BF2DA061EB035A9E3BA60FB5C 2016-12-01 11:53:11   \n",
       "542935  FBFBE66F79A8407BF2DA061EB035A9E3BA60FB5C 2016-12-01 19:59:15   \n",
       "542936  FBFBE66F79A8407BF2DA061EB035A9E3BA60FB5C 2016-12-02 11:02:44   \n",
       "\n",
       "                 DATE_FROM          DATE_UNTIL COMPUTE_EXTRA_BOOKING_FEE  \\\n",
       "542932 2016-11-30 09:05:46 2016-11-30 10:48:14                      Nein   \n",
       "542933 2016-11-30 19:04:47 2016-11-30 21:20:02                      Nein   \n",
       "542934 2016-12-01 09:10:44 2016-12-01 11:31:47                      Nein   \n",
       "542935 2016-12-01 18:11:49 2016-12-01 19:58:13                      Nein   \n",
       "542936 2016-12-02 09:06:58 2016-12-02 11:01:21                      Nein   \n",
       "\n",
       "       TRAVERSE_USE DISTANCE    ...     BOOKING_DATE  FROM_DATE BOOKING_YEAR  \\\n",
       "542932         Nein       26    ...       2016-11-30 2016-11-30         2016   \n",
       "542933         Nein       57    ...       2016-11-30 2016-11-30         2016   \n",
       "542934         Nein       36    ...       2016-12-01 2016-12-01         2016   \n",
       "542935         Nein       34    ...       2016-12-01 2016-12-01         2016   \n",
       "542936         Nein       18    ...       2016-12-02 2016-12-02         2016   \n",
       "\n",
       "        BOOKING_MONTH BOOKING_WDAY BOOKING_QUARTER FROM_MONTH  UNTIL_MONTH  \\\n",
       "542932             11            2               4         11           11   \n",
       "542933             11            2               4         11           11   \n",
       "542934             12            3               4         12           12   \n",
       "542935             12            3               4         12           12   \n",
       "542936             12            4               4         12           12   \n",
       "\n",
       "        FROM_WDAY UNTIL_WDAY  \n",
       "542932          2          2  \n",
       "542933          2          2  \n",
       "542934          3          3  \n",
       "542935          3          3  \n",
       "542936          4          4  \n",
       "\n",
       "[5 rows x 34 columns]"
      ]
     },
     "execution_count": 56,
     "metadata": {},
     "output_type": "execute_result"
    }
   ],
   "source": [
    "year.tail()"
   ]
  },
  {
   "cell_type": "code",
   "execution_count": 57,
   "metadata": {
    "scrolled": true
   },
   "outputs": [
    {
     "data": {
      "text/html": [
       "<div>\n",
       "<style>\n",
       "    .dataframe thead tr:only-child th {\n",
       "        text-align: right;\n",
       "    }\n",
       "\n",
       "    .dataframe thead th {\n",
       "        text-align: left;\n",
       "    }\n",
       "\n",
       "    .dataframe tbody tr th {\n",
       "        vertical-align: top;\n",
       "    }\n",
       "</style>\n",
       "<table border=\"1\" class=\"dataframe\">\n",
       "  <thead>\n",
       "    <tr style=\"text-align: right;\">\n",
       "      <th></th>\n",
       "      <th>FROM_DATE</th>\n",
       "      <th>SEASON</th>\n",
       "    </tr>\n",
       "  </thead>\n",
       "  <tbody>\n",
       "    <tr>\n",
       "      <th>0</th>\n",
       "      <td>2014/01/01</td>\n",
       "      <td>Winter</td>\n",
       "    </tr>\n",
       "    <tr>\n",
       "      <th>1</th>\n",
       "      <td>2014/01/02</td>\n",
       "      <td>Winter</td>\n",
       "    </tr>\n",
       "    <tr>\n",
       "      <th>2</th>\n",
       "      <td>2014/01/03</td>\n",
       "      <td>Winter</td>\n",
       "    </tr>\n",
       "    <tr>\n",
       "      <th>3</th>\n",
       "      <td>2014/01/04</td>\n",
       "      <td>Winter</td>\n",
       "    </tr>\n",
       "    <tr>\n",
       "      <th>4</th>\n",
       "      <td>2014/01/05</td>\n",
       "      <td>Winter</td>\n",
       "    </tr>\n",
       "    <tr>\n",
       "      <th>5</th>\n",
       "      <td>2014/01/06</td>\n",
       "      <td>Winter</td>\n",
       "    </tr>\n",
       "    <tr>\n",
       "      <th>6</th>\n",
       "      <td>2014/01/07</td>\n",
       "      <td>Winter</td>\n",
       "    </tr>\n",
       "    <tr>\n",
       "      <th>7</th>\n",
       "      <td>2014/01/08</td>\n",
       "      <td>Winter</td>\n",
       "    </tr>\n",
       "    <tr>\n",
       "      <th>8</th>\n",
       "      <td>2014/01/09</td>\n",
       "      <td>Winter</td>\n",
       "    </tr>\n",
       "    <tr>\n",
       "      <th>9</th>\n",
       "      <td>2014/01/10</td>\n",
       "      <td>Winter</td>\n",
       "    </tr>\n",
       "    <tr>\n",
       "      <th>10</th>\n",
       "      <td>2014/01/11</td>\n",
       "      <td>Winter</td>\n",
       "    </tr>\n",
       "    <tr>\n",
       "      <th>11</th>\n",
       "      <td>2014/01/12</td>\n",
       "      <td>Winter</td>\n",
       "    </tr>\n",
       "    <tr>\n",
       "      <th>12</th>\n",
       "      <td>2014/01/13</td>\n",
       "      <td>Winter</td>\n",
       "    </tr>\n",
       "    <tr>\n",
       "      <th>13</th>\n",
       "      <td>2014/01/14</td>\n",
       "      <td>Winter</td>\n",
       "    </tr>\n",
       "    <tr>\n",
       "      <th>14</th>\n",
       "      <td>2014/01/15</td>\n",
       "      <td>Winter</td>\n",
       "    </tr>\n",
       "    <tr>\n",
       "      <th>15</th>\n",
       "      <td>2014/01/16</td>\n",
       "      <td>Winter</td>\n",
       "    </tr>\n",
       "    <tr>\n",
       "      <th>16</th>\n",
       "      <td>2014/01/17</td>\n",
       "      <td>Winter</td>\n",
       "    </tr>\n",
       "    <tr>\n",
       "      <th>17</th>\n",
       "      <td>2014/01/18</td>\n",
       "      <td>Winter</td>\n",
       "    </tr>\n",
       "    <tr>\n",
       "      <th>18</th>\n",
       "      <td>2014/01/19</td>\n",
       "      <td>Winter</td>\n",
       "    </tr>\n",
       "    <tr>\n",
       "      <th>19</th>\n",
       "      <td>2014/01/20</td>\n",
       "      <td>Winter</td>\n",
       "    </tr>\n",
       "    <tr>\n",
       "      <th>20</th>\n",
       "      <td>2014/01/21</td>\n",
       "      <td>Winter</td>\n",
       "    </tr>\n",
       "    <tr>\n",
       "      <th>21</th>\n",
       "      <td>2014/01/22</td>\n",
       "      <td>Winter</td>\n",
       "    </tr>\n",
       "    <tr>\n",
       "      <th>22</th>\n",
       "      <td>2014/01/23</td>\n",
       "      <td>Winter</td>\n",
       "    </tr>\n",
       "    <tr>\n",
       "      <th>23</th>\n",
       "      <td>2014/01/24</td>\n",
       "      <td>Winter</td>\n",
       "    </tr>\n",
       "    <tr>\n",
       "      <th>24</th>\n",
       "      <td>2014/01/25</td>\n",
       "      <td>Winter</td>\n",
       "    </tr>\n",
       "    <tr>\n",
       "      <th>25</th>\n",
       "      <td>2014/01/26</td>\n",
       "      <td>Winter</td>\n",
       "    </tr>\n",
       "    <tr>\n",
       "      <th>26</th>\n",
       "      <td>2014/01/27</td>\n",
       "      <td>Winter</td>\n",
       "    </tr>\n",
       "    <tr>\n",
       "      <th>27</th>\n",
       "      <td>2014/01/28</td>\n",
       "      <td>Winter</td>\n",
       "    </tr>\n",
       "    <tr>\n",
       "      <th>28</th>\n",
       "      <td>2014/01/29</td>\n",
       "      <td>Winter</td>\n",
       "    </tr>\n",
       "    <tr>\n",
       "      <th>29</th>\n",
       "      <td>2014/01/30</td>\n",
       "      <td>Winter</td>\n",
       "    </tr>\n",
       "    <tr>\n",
       "      <th>...</th>\n",
       "      <td>...</td>\n",
       "      <td>...</td>\n",
       "    </tr>\n",
       "    <tr>\n",
       "      <th>1066</th>\n",
       "      <td>2016/12/02</td>\n",
       "      <td>Autumn</td>\n",
       "    </tr>\n",
       "    <tr>\n",
       "      <th>1067</th>\n",
       "      <td>2016/12/03</td>\n",
       "      <td>Autumn</td>\n",
       "    </tr>\n",
       "    <tr>\n",
       "      <th>1068</th>\n",
       "      <td>2016/12/04</td>\n",
       "      <td>Autumn</td>\n",
       "    </tr>\n",
       "    <tr>\n",
       "      <th>1069</th>\n",
       "      <td>2016/12/05</td>\n",
       "      <td>Autumn</td>\n",
       "    </tr>\n",
       "    <tr>\n",
       "      <th>1070</th>\n",
       "      <td>2016/12/06</td>\n",
       "      <td>Autumn</td>\n",
       "    </tr>\n",
       "    <tr>\n",
       "      <th>1071</th>\n",
       "      <td>2016/12/07</td>\n",
       "      <td>Autumn</td>\n",
       "    </tr>\n",
       "    <tr>\n",
       "      <th>1072</th>\n",
       "      <td>2016/12/08</td>\n",
       "      <td>Autumn</td>\n",
       "    </tr>\n",
       "    <tr>\n",
       "      <th>1073</th>\n",
       "      <td>2016/12/09</td>\n",
       "      <td>Autumn</td>\n",
       "    </tr>\n",
       "    <tr>\n",
       "      <th>1074</th>\n",
       "      <td>2016/12/10</td>\n",
       "      <td>Autumn</td>\n",
       "    </tr>\n",
       "    <tr>\n",
       "      <th>1075</th>\n",
       "      <td>2016/12/11</td>\n",
       "      <td>Autumn</td>\n",
       "    </tr>\n",
       "    <tr>\n",
       "      <th>1076</th>\n",
       "      <td>2016/12/12</td>\n",
       "      <td>Autumn</td>\n",
       "    </tr>\n",
       "    <tr>\n",
       "      <th>1077</th>\n",
       "      <td>2016/12/13</td>\n",
       "      <td>Autumn</td>\n",
       "    </tr>\n",
       "    <tr>\n",
       "      <th>1078</th>\n",
       "      <td>2016/12/14</td>\n",
       "      <td>Autumn</td>\n",
       "    </tr>\n",
       "    <tr>\n",
       "      <th>1079</th>\n",
       "      <td>2016/12/15</td>\n",
       "      <td>Autumn</td>\n",
       "    </tr>\n",
       "    <tr>\n",
       "      <th>1080</th>\n",
       "      <td>2016/12/16</td>\n",
       "      <td>Autumn</td>\n",
       "    </tr>\n",
       "    <tr>\n",
       "      <th>1081</th>\n",
       "      <td>2016/12/17</td>\n",
       "      <td>Autumn</td>\n",
       "    </tr>\n",
       "    <tr>\n",
       "      <th>1082</th>\n",
       "      <td>2016/12/18</td>\n",
       "      <td>Autumn</td>\n",
       "    </tr>\n",
       "    <tr>\n",
       "      <th>1083</th>\n",
       "      <td>2016/12/19</td>\n",
       "      <td>Autumn</td>\n",
       "    </tr>\n",
       "    <tr>\n",
       "      <th>1084</th>\n",
       "      <td>2016/12/20</td>\n",
       "      <td>Autumn</td>\n",
       "    </tr>\n",
       "    <tr>\n",
       "      <th>1085</th>\n",
       "      <td>2016/12/21</td>\n",
       "      <td>Autumn</td>\n",
       "    </tr>\n",
       "    <tr>\n",
       "      <th>1086</th>\n",
       "      <td>2016/12/22</td>\n",
       "      <td>Autumn</td>\n",
       "    </tr>\n",
       "    <tr>\n",
       "      <th>1087</th>\n",
       "      <td>2016/12/23</td>\n",
       "      <td>Winter</td>\n",
       "    </tr>\n",
       "    <tr>\n",
       "      <th>1088</th>\n",
       "      <td>2016/12/24</td>\n",
       "      <td>Winter</td>\n",
       "    </tr>\n",
       "    <tr>\n",
       "      <th>1089</th>\n",
       "      <td>2016/12/25</td>\n",
       "      <td>Winter</td>\n",
       "    </tr>\n",
       "    <tr>\n",
       "      <th>1090</th>\n",
       "      <td>2016/12/26</td>\n",
       "      <td>Winter</td>\n",
       "    </tr>\n",
       "    <tr>\n",
       "      <th>1091</th>\n",
       "      <td>2016/12/27</td>\n",
       "      <td>Winter</td>\n",
       "    </tr>\n",
       "    <tr>\n",
       "      <th>1092</th>\n",
       "      <td>2016/12/28</td>\n",
       "      <td>Winter</td>\n",
       "    </tr>\n",
       "    <tr>\n",
       "      <th>1093</th>\n",
       "      <td>2016/12/29</td>\n",
       "      <td>Winter</td>\n",
       "    </tr>\n",
       "    <tr>\n",
       "      <th>1094</th>\n",
       "      <td>2016/12/30</td>\n",
       "      <td>Winter</td>\n",
       "    </tr>\n",
       "    <tr>\n",
       "      <th>1095</th>\n",
       "      <td>2016/12/31</td>\n",
       "      <td>Winter</td>\n",
       "    </tr>\n",
       "  </tbody>\n",
       "</table>\n",
       "<p>1096 rows × 2 columns</p>\n",
       "</div>"
      ],
      "text/plain": [
       "       FROM_DATE  SEASON\n",
       "0     2014/01/01  Winter\n",
       "1     2014/01/02  Winter\n",
       "2     2014/01/03  Winter\n",
       "3     2014/01/04  Winter\n",
       "4     2014/01/05  Winter\n",
       "5     2014/01/06  Winter\n",
       "6     2014/01/07  Winter\n",
       "7     2014/01/08  Winter\n",
       "8     2014/01/09  Winter\n",
       "9     2014/01/10  Winter\n",
       "10    2014/01/11  Winter\n",
       "11    2014/01/12  Winter\n",
       "12    2014/01/13  Winter\n",
       "13    2014/01/14  Winter\n",
       "14    2014/01/15  Winter\n",
       "15    2014/01/16  Winter\n",
       "16    2014/01/17  Winter\n",
       "17    2014/01/18  Winter\n",
       "18    2014/01/19  Winter\n",
       "19    2014/01/20  Winter\n",
       "20    2014/01/21  Winter\n",
       "21    2014/01/22  Winter\n",
       "22    2014/01/23  Winter\n",
       "23    2014/01/24  Winter\n",
       "24    2014/01/25  Winter\n",
       "25    2014/01/26  Winter\n",
       "26    2014/01/27  Winter\n",
       "27    2014/01/28  Winter\n",
       "28    2014/01/29  Winter\n",
       "29    2014/01/30  Winter\n",
       "...          ...     ...\n",
       "1066  2016/12/02  Autumn\n",
       "1067  2016/12/03  Autumn\n",
       "1068  2016/12/04  Autumn\n",
       "1069  2016/12/05  Autumn\n",
       "1070  2016/12/06  Autumn\n",
       "1071  2016/12/07  Autumn\n",
       "1072  2016/12/08  Autumn\n",
       "1073  2016/12/09  Autumn\n",
       "1074  2016/12/10  Autumn\n",
       "1075  2016/12/11  Autumn\n",
       "1076  2016/12/12  Autumn\n",
       "1077  2016/12/13  Autumn\n",
       "1078  2016/12/14  Autumn\n",
       "1079  2016/12/15  Autumn\n",
       "1080  2016/12/16  Autumn\n",
       "1081  2016/12/17  Autumn\n",
       "1082  2016/12/18  Autumn\n",
       "1083  2016/12/19  Autumn\n",
       "1084  2016/12/20  Autumn\n",
       "1085  2016/12/21  Autumn\n",
       "1086  2016/12/22  Autumn\n",
       "1087  2016/12/23  Winter\n",
       "1088  2016/12/24  Winter\n",
       "1089  2016/12/25  Winter\n",
       "1090  2016/12/26  Winter\n",
       "1091  2016/12/27  Winter\n",
       "1092  2016/12/28  Winter\n",
       "1093  2016/12/29  Winter\n",
       "1094  2016/12/30  Winter\n",
       "1095  2016/12/31  Winter\n",
       "\n",
       "[1096 rows x 2 columns]"
      ]
     },
     "execution_count": 57,
     "metadata": {},
     "output_type": "execute_result"
    }
   ],
   "source": [
    "seasons = pd.read_csv(\"seasons_in_germany.csv\", sep=';', header=0)\n",
    "seasons"
   ]
  },
  {
   "cell_type": "code",
   "execution_count": 58,
   "metadata": {
    "collapsed": true
   },
   "outputs": [],
   "source": [
    "seasons['FROM_DATE'] = pd.to_datetime(data.FROM_DATE)\n"
   ]
  },
  {
   "cell_type": "code",
   "execution_count": 59,
   "metadata": {},
   "outputs": [
    {
     "data": {
      "text/plain": [
       "FROM_DATE    datetime64[ns]\n",
       "SEASON               object\n",
       "dtype: object"
      ]
     },
     "execution_count": 59,
     "metadata": {},
     "output_type": "execute_result"
    }
   ],
   "source": [
    "seasons.dtypes"
   ]
  },
  {
   "cell_type": "code",
   "execution_count": 60,
   "metadata": {
    "collapsed": true
   },
   "outputs": [],
   "source": [
    "#year = pd.merge(year, seasons, on ='FROM_DATE')\n",
    "#year.head()"
   ]
  },
  {
   "cell_type": "code",
   "execution_count": 61,
   "metadata": {
    "collapsed": true
   },
   "outputs": [],
   "source": [
    "#data.PUBLIC_HOLIDAYS.value_counts()"
   ]
  },
  {
   "cell_type": "code",
   "execution_count": 62,
   "metadata": {
    "collapsed": true,
    "scrolled": true
   },
   "outputs": [],
   "source": [
    "#col = ['PUBLIC_HOLIDAYS']\n",
    "#data.drop(col, inplace=True, axis=1)\n",
    "#data.head()\"\"\""
   ]
  },
  {
   "cell_type": "code",
   "execution_count": 63,
   "metadata": {
    "collapsed": true
   },
   "outputs": [],
   "source": [
    "schoolholidays = pd.read_csv(\"schoolHolidays.csv\", sep=',', header=0)"
   ]
  },
  {
   "cell_type": "code",
   "execution_count": 64,
   "metadata": {},
   "outputs": [
    {
     "data": {
      "text/plain": [
       "Index(['BerlinSchoolHolidays\\n', 'HamburgSchoolHolidays', 'Baden-Württemberg',\n",
       "       'Bayern', 'Brandenburg', 'Bremen', 'Hessen', 'Mecklenburg-Vorpommern',\n",
       "       'Niedersachsen', 'Nordrhein-Westfalen', 'Rheinland-Pfalz', 'Saarland',\n",
       "       'Sachsen', 'Sachsen-Anhalt', 'Schleswig-Holstein', 'Thüringen'],\n",
       "      dtype='object')"
      ]
     },
     "execution_count": 64,
     "metadata": {},
     "output_type": "execute_result"
    }
   ],
   "source": [
    "schoolholidays.columns"
   ]
  },
  {
   "cell_type": "code",
   "execution_count": 65,
   "metadata": {
    "collapsed": true
   },
   "outputs": [],
   "source": [
    "#schoolholidays.reset_index(inplace=True)"
   ]
  },
  {
   "cell_type": "code",
   "execution_count": 66,
   "metadata": {
    "collapsed": true
   },
   "outputs": [],
   "source": [
    "schoolholidays= schoolholidays.rename(columns={'BerlinSchoolHolidays\\n': 'Berlin','HamburgSchoolHolidays':'Hamburg','Baden-Württemberg':'BadenWürttemberg','Mecklenburg-Vorpommern':'MecklenburgVorpommern','Nordrhein-Westfalen':'NordrheinWestfalen','Rheinland-Pfalz':'RheinlandPfalz','Sachsen-Anhalt':'SachsenAnhalt','Schleswig-Holstein':'SchleswigHolstein'})"
   ]
  },
  {
   "cell_type": "code",
   "execution_count": 67,
   "metadata": {
    "collapsed": true
   },
   "outputs": [],
   "source": [
    "#%store schoolholidays\n",
    "#%store year\n",
    "#%store data"
   ]
  },
  {
   "cell_type": "code",
   "execution_count": null,
   "metadata": {
    "collapsed": true
   },
   "outputs": [],
   "source": []
  }
 ],
 "metadata": {
  "kernelspec": {
   "display_name": "Python 3",
   "language": "python",
   "name": "python3"
  },
  "language_info": {
   "codemirror_mode": {
    "name": "ipython",
    "version": 3
   },
   "file_extension": ".py",
   "mimetype": "text/x-python",
   "name": "python",
   "nbconvert_exporter": "python",
   "pygments_lexer": "ipython3",
   "version": "3.6.1"
  }
 },
 "nbformat": 4,
 "nbformat_minor": 2
}
